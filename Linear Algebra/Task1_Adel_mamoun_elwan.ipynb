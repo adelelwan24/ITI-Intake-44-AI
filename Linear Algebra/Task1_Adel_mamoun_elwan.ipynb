{
  "cells": [
    {
      "cell_type": "code",
      "execution_count": null,
      "metadata": {
        "id": "Ao-AZgGtJJHT"
      },
      "outputs": [],
      "source": [
        "import numpy as np"
      ]
    },
    {
      "cell_type": "markdown",
      "metadata": {
        "id": "1Dsy09OVJJHX"
      },
      "source": [
        "# Q3: Implement the L1 and L2 loss functions\n",
        "**Exercise**: Implement the numpy vectorized version of the L1 loss. You may find the function abs(x) (absolute value of x) useful.\n",
        "\n",
        "**Reminder**:\n",
        "\n",
        "* The loss is used to evaluate the performance of your model. The bigger your loss is, the more different your predictions ($ \\hat{y} $) are from the true values ($y$). In deep learning, you use optimization algorithms like Gradient Descent to train your model and to minimize the cost.\n",
        "* L1 loss is defined as: $$\\begin{align*} & L_1(\\hat{y}, y) = \\sum_{i=0}^m|y^{(i)} - \\hat{y}^{(i)}| \\end{align*}\\tag{6}$$\n",
        "Expected Output:\n",
        "\n",
        "L1\t1.1\n"
      ]
    },
    {
      "cell_type": "code",
      "execution_count": null,
      "metadata": {
        "id": "kY3r3v63JJHh"
      },
      "outputs": [],
      "source": [
        "def L1(yhat, y):\n",
        "    \"\"\"\n",
        "    Arguments:\n",
        "    yhat -- vector of size m (predicted labels)\n",
        "    y -- vector of size m (true labels)\n",
        "\n",
        "    Returns:\n",
        "    loss -- the value of the L1 loss function defined above\n",
        "    \"\"\"\n",
        "\n",
        "    ### START CODE HERE ### (≈ 1 line of code)\n",
        "    loss = np.sum(np.abs(y - yhat))\n",
        "    ### END CODE HERE ###\n",
        "\n",
        "    return loss"
      ]
    },
    {
      "cell_type": "code",
      "execution_count": null,
      "metadata": {
        "colab": {
          "base_uri": "https://localhost:8080/"
        },
        "id": "1n6lsoGrJJHi",
        "outputId": "7b135eb7-3236-4a70-c008-2c06c2e831bb"
      },
      "outputs": [
        {
          "output_type": "stream",
          "name": "stdout",
          "text": [
            "L1 = 1.1\n"
          ]
        }
      ],
      "source": [
        "yhat = np.array([.9, 0.2, 0.1, .4, .9])\n",
        "y    = np.array([1 ,  0 ,  0 ,  1, 1])\n",
        "\n",
        "l1_loss = L1(yhat,y)\n",
        "print(\"L1 = \" + str(l1_loss))"
      ]
    },
    {
      "cell_type": "markdown",
      "metadata": {
        "id": "TIDGs4h_JJHj"
      },
      "source": [
        "**Exercise**: Implement the numpy vectorized version of the L2 loss. There are several way of implementing the L2 loss but you may find the function np.dot() useful. As a reminder, if $x = [x_1, x_2, ..., x_n]$, then np.dot(x,x) = $\\sum_{j=0}^n x_j^{2}$.\n",
        "\n",
        "* L2 loss is defined as $$\\begin{align*} & L_2(\\hat{y},y) = \\sum_{i=0}^m(y^{(i)} - \\hat{y}^{(i)})^2 \\end{align*}\\tag{7}$$\n",
        "**Expected Output**:\n",
        "\n",
        "L2\t0.43\n"
      ]
    },
    {
      "cell_type": "code",
      "execution_count": null,
      "metadata": {
        "id": "LlhFHNC1JJHk"
      },
      "outputs": [],
      "source": [
        "def L2(yhat, y):\n",
        "    \"\"\"\n",
        "    Arguments:\n",
        "    yhat -- vector of size m (predicted labels)\n",
        "    y -- vector of size m (true labels)\n",
        "\n",
        "    Returns:\n",
        "    loss -- the value of the L2 loss function defined above\n",
        "    \"\"\"\n",
        "\n",
        "    ### START CODE HERE ### (≈ 1 line of code)\n",
        "    loss = np.sum(np.square(y - yhat))\n",
        "    ### END CODE HERE ###\n",
        "\n",
        "    return loss"
      ]
    },
    {
      "cell_type": "code",
      "execution_count": null,
      "metadata": {
        "colab": {
          "base_uri": "https://localhost:8080/"
        },
        "id": "cXPGCWX9JJHl",
        "outputId": "75fd66c4-c7b7-401d-fae8-8b4abeb926bc"
      },
      "outputs": [
        {
          "output_type": "stream",
          "name": "stdout",
          "text": [
            "L2 = 0.43\n"
          ]
        }
      ],
      "source": [
        "yhat = np.array([.9, 0.2, 0.1, .4, .9])\n",
        "y    = np.array([1 ,  0 ,  0 ,  1, 1])\n",
        "\n",
        "l2_loss = L2(yhat,y)\n",
        "\n",
        "print(\"L2 = \" + str(l2_loss))"
      ]
    },
    {
      "cell_type": "markdown",
      "metadata": {
        "id": "8437k2lgJJHl"
      },
      "source": [
        "# Q4: comparing the dot product using:\n",
        "1. parallelism in python\n",
        "2. numpy_dot_product\n",
        "3. using the for_loop\n",
        "\n",
        "\n",
        "**compute the time needed for each.**"
      ]
    },
    {
      "cell_type": "code",
      "execution_count": null,
      "metadata": {
        "id": "ZAjgHD2UJJHm"
      },
      "outputs": [],
      "source": [
        "import numpy as np\n",
        "import time\n",
        "\n",
        "a = np.array([1, 2, 3, 4, 5, 6, 7, 8, 9, 10])\n",
        "b = np.array([10, 9, 8, 7, 6, 5, 4, 3, 2, 1])"
      ]
    },
    {
      "cell_type": "code",
      "execution_count": null,
      "metadata": {
        "colab": {
          "base_uri": "https://localhost:8080/"
        },
        "id": "kVFfqPrgJJHm",
        "outputId": "0bfc2665-2030-4dce-913f-e3a820172a7b"
      },
      "outputs": [
        {
          "output_type": "stream",
          "name": "stdout",
          "text": [
            "Time in sec: 0.06593308700000011\n"
          ]
        }
      ],
      "source": [
        "#### parallelism in python\n",
        "import multiprocessing\n",
        "import time\n",
        "\n",
        "\n",
        "def product(x, y):\n",
        "    return x * y\n",
        "\n",
        "\n",
        "pool = multiprocessing.Pool(multiprocessing.cpu_count())\n",
        "inputs = zip(a, b)\n",
        "\n",
        "\n",
        "tic = time.process_time()\n",
        "\n",
        "for _ in range(10000):\n",
        "    outputs = [pool.apply(product, args=(i, j)) for i, j in inputs]\n",
        "    out = np.sum(outputs)\n",
        "\n",
        "toc = time.process_time()\n",
        "\n",
        "\n",
        "dt1 = toc - tic\n",
        "print(\"Time in sec:\", dt1)"
      ]
    },
    {
      "cell_type": "code",
      "execution_count": null,
      "metadata": {
        "colab": {
          "base_uri": "https://localhost:8080/"
        },
        "id": "CMk0m_eLJJHn",
        "outputId": "634a6d79-a76e-42fc-8906-8cd0598e0648"
      },
      "outputs": [
        {
          "output_type": "stream",
          "name": "stdout",
          "text": [
            "Time in sec: 0.013008228999999982\n"
          ]
        }
      ],
      "source": [
        "#### numpy dot product\n",
        "\n",
        "tic = time.process_time()\n",
        "\n",
        "for _ in range(10000):\n",
        "    # np.dot(a, b)\n",
        "    a.dot(b)\n",
        "\n",
        "toc = time.process_time()\n",
        "\n",
        "\n",
        "dt1 = toc - tic\n",
        "print(\"Time in sec:\", dt1)"
      ]
    },
    {
      "cell_type": "code",
      "execution_count": null,
      "metadata": {
        "colab": {
          "base_uri": "https://localhost:8080/"
        },
        "id": "ducY6WA3JJHo",
        "outputId": "a6281879-5ccd-4aa1-ff91-0e43651d0082"
      },
      "outputs": [
        {
          "output_type": "stream",
          "name": "stdout",
          "text": [
            "Time in sec: 0.03955560300000016\n"
          ]
        }
      ],
      "source": [
        "#### using for loop\n",
        "def for_dot_product(a, b):\n",
        "    result = 0\n",
        "    for i in range(len(a)):\n",
        "        result += a[i] * b[i]\n",
        "    return result\n",
        "\n",
        "#### time measuring\n",
        "tic = time.process_time()\n",
        "\n",
        "for _ in range(10000):\n",
        "    for_dot_product(a, b)\n",
        "\n",
        "toc = time.process_time()\n",
        "\n",
        "\n",
        "dt1 = toc - tic\n",
        "print(\"Time in sec:\", dt1)\n"
      ]
    },
    {
      "cell_type": "markdown",
      "source": [
        "# Testing"
      ],
      "metadata": {
        "id": "TPsYf26AHG9I"
      }
    },
    {
      "cell_type": "code",
      "source": [
        "def add(x):\n",
        "    return hex(id(x))"
      ],
      "metadata": {
        "id": "h8V6FRtpHpJw"
      },
      "execution_count": null,
      "outputs": []
    },
    {
      "cell_type": "code",
      "execution_count": null,
      "metadata": {
        "id": "gm9SoDXDJJHs",
        "colab": {
          "base_uri": "https://localhost:8080/"
        },
        "outputId": "c01671e4-2485-4289-fd02-07c33e84a07f"
      },
      "outputs": [
        {
          "output_type": "execute_result",
          "data": {
            "text/plain": [
              "('0x7d1df0c140f0', '0x7d1df0c14110')"
            ]
          },
          "metadata": {},
          "execution_count": 7
        }
      ],
      "source": [
        "lst = [1,2,3,4]\n",
        "add(lst[0]), add(lst[1])"
      ]
    },
    {
      "cell_type": "code",
      "source": [
        "arr = np.array(lst)\n",
        "assert id(arr[0]) == id(arr[1]), \"wow\"\n",
        "add(arr), add(arr[0]), add(arr[1]), add(arr[2])"
      ],
      "metadata": {
        "colab": {
          "base_uri": "https://localhost:8080/"
        },
        "id": "PMzgeksDHCWR",
        "outputId": "66f36644-ac5d-4214-ad02-a6cda037bf38"
      },
      "execution_count": null,
      "outputs": [
        {
          "output_type": "execute_result",
          "data": {
            "text/plain": [
              "('0x7d1da4e42d90', '0x7d1da4e96e30', '0x7d1da4e96e30', '0x7d1da4e96e30')"
            ]
          },
          "metadata": {},
          "execution_count": 9
        }
      ]
    },
    {
      "cell_type": "code",
      "source": [
        "arr = np.array([1,2,3,4,5])\n",
        "arr = np.append(arr, [[[[10]]]])\n",
        "arr"
      ],
      "metadata": {
        "colab": {
          "base_uri": "https://localhost:8080/"
        },
        "id": "4EfyDZECHcjF",
        "outputId": "1ff8e91e-e0cf-49b4-cd47-0eb98e399c4a"
      },
      "execution_count": null,
      "outputs": [
        {
          "output_type": "execute_result",
          "data": {
            "text/plain": [
              "array([ 1,  2,  3,  4,  5, 10])"
            ]
          },
          "metadata": {},
          "execution_count": 12
        }
      ]
    },
    {
      "cell_type": "code",
      "source": [],
      "metadata": {
        "id": "nS7nBqpZNaco"
      },
      "execution_count": null,
      "outputs": []
    }
  ],
  "metadata": {
    "kernelspec": {
      "display_name": "Python 3",
      "language": "python",
      "name": "python3"
    },
    "language_info": {
      "codemirror_mode": {
        "name": "ipython",
        "version": 3
      },
      "file_extension": ".py",
      "mimetype": "text/x-python",
      "name": "python",
      "nbconvert_exporter": "python",
      "pygments_lexer": "ipython3",
      "version": "3.10.3"
    },
    "colab": {
      "provenance": []
    }
  },
  "nbformat": 4,
  "nbformat_minor": 0
}