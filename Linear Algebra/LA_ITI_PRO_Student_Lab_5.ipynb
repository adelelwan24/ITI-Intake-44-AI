{
  "cells": [
    {
      "cell_type": "markdown",
      "metadata": {
        "id": "JsZvl1EUd_5p"
      },
      "source": [
        "# Lab 5: PCA Using Eigenvectors and Singular Value Decomposition"
      ]
    },
    {
      "cell_type": "markdown",
      "metadata": {
        "id": "-Ezd-pYPd_5x"
      },
      "source": [
        "# First: you should run this cell"
      ]
    },
    {
      "cell_type": "code",
      "execution_count": null,
      "metadata": {
        "id": "Q3DGJIQ1d_5z"
      },
      "outputs": [],
      "source": [
        "# Make all numpy available via shorter 'np' prefix\n",
        "import numpy as np"
      ]
    },
    {
      "cell_type": "markdown",
      "metadata": {
        "id": "tAjou1KHd_53"
      },
      "source": [
        "# Question 1 : PCA Using Eigenvectors\n",
        "\n",
        "#### Create a matrix contains the following data\n",
        "\n",
        "| | Feature #1 | Feature #2 | Feature #3 | Feature #4 |\n",
        "| --- | --- | --- | --- | --- |\n",
        "| **Sample #1** | 1 | 2 | 3 | 4 |\n",
        "| **Sample #2** | 5 | 5 | 6 | 7 |\n",
        "| **Sample #3**| 1 | 4 | 2 | 3 |\n",
        "| **Sample #4**| 5 | 3 | 2 | 1 |\n",
        "| **Sample #5**| 8 | 1 | 2 | 2 |"
      ]
    },
    {
      "cell_type": "code",
      "execution_count": null,
      "metadata": {
        "id": "X45vbLbJd_55",
        "outputId": "77966938-7e85-4692-db57-0f569980362d",
        "colab": {
          "base_uri": "https://localhost:8080/"
        }
      },
      "outputs": [
        {
          "output_type": "stream",
          "name": "stdout",
          "text": [
            "M = \n",
            "[[1 2 3 4]\n",
            " [5 5 6 7]\n",
            " [1 4 2 3]\n",
            " [5 3 2 1]\n",
            " [8 1 2 2]]\n",
            "\n"
          ]
        }
      ],
      "source": [
        "M = np.array([[1,2,3,4],\n",
        "              [5,5,6,7],\n",
        "              [1,4,2,3],\n",
        "              [5,3,2,1],\n",
        "              [8,1,2,2]])\n",
        "print('M = \\n{}\\n'.format(M))"
      ]
    },
    {
      "cell_type": "markdown",
      "metadata": {
        "id": "xPW16rgGd_58"
      },
      "source": [
        "### Step 1: Standardize the dataset.\n",
        "- Calculate data mean for each feature.\n",
        "- Calculate data standard deviation for each feature.\n",
        "\n",
        "| | Feature #1 | Feature #2 | Feature #3 | Feature #4 |\n",
        "| --- | --- | --- | --- | --- |\n",
        "| **$\\mu$** | 4 | 3 | 3 | 3.4 |\n",
        "| **$\\sigma$**| 3 | 1.58114 | 1.73205 | 2.30217 |\n",
        "\n",
        "\n",
        "- Standardize the data.\n",
        "\n",
        "| | Feature #1 | Feature #2 | Feature #3 | Feature #4 |\n",
        "| --- | --- | --- | --- | --- |\n",
        "| **Sample #1** | -1.         | -0.63245553 |  0.         |  0.26062335 |\n",
        "| **Sample #2** |  0.33333333 | 1.26491106 |  1.73205081 |  1.56374007 |\n",
        "| **Sample #3** | -1.         | 0.63245553 | -0.57735027 | -0.1737489  |\n",
        "| **Sample #4** |  0.33333333 | 0.         | -0.57735027 | -1.04249338 |\n",
        "| **Sample #5** |  1.33333333 | -1.26491106 | -0.57735027 | -0.60812114 |\n",
        "\n",
        "\n"
      ]
    },
    {
      "cell_type": "code",
      "source": [
        "mean = M.mean(axis=0)\n",
        "print(\"-\"* 20, \"M\", \"-\" * 20, f\"\\n {M}\\n\", \"-\" * 40, \"\\n\")\n",
        "print(\"-\"* 20, \"Data mean\", \"-\" * 20, f\"\\n {mean}\\n\", \"-\" * 40, \"\\n\")\n",
        "std = M.std(axis=0)\n",
        "print(\"-\"* 20, \"Data standard deviation\", \"-\" * 20, f\"\\n {std}\\n\", \"-\" * 40, \"\\n\")\n",
        "X = (M - mean) / std\n",
        "print(\"-\"* 20, \"X\", \"-\" * 20, f\"\\n {X}\\n\", \"-\" * 40, \"\\n\")"
      ],
      "metadata": {
        "colab": {
          "base_uri": "https://localhost:8080/"
        },
        "id": "I3TN3XM2fDf1",
        "outputId": "0eed25f8-e745-4e2b-ec93-102b04a0b8f0"
      },
      "execution_count": null,
      "outputs": [
        {
          "output_type": "stream",
          "name": "stdout",
          "text": [
            "-------------------- M -------------------- \n",
            " [[1 2 3 4]\n",
            " [5 5 6 7]\n",
            " [1 4 2 3]\n",
            " [5 3 2 1]\n",
            " [8 1 2 2]]\n",
            " ---------------------------------------- \n",
            "\n",
            "-------------------- Data mean -------------------- \n",
            " [4.  3.  3.  3.4]\n",
            " ---------------------------------------- \n",
            "\n",
            "-------------------- Data standard deviation -------------------- \n",
            " [2.68328157 1.41421356 1.54919334 2.05912603]\n",
            " ---------------------------------------- \n",
            "\n",
            "-------------------- X -------------------- \n",
            " [[-1.11803399 -0.70710678  0.          0.29138576]\n",
            " [ 0.372678    1.41421356  1.93649167  1.74831455]\n",
            " [-1.11803399  0.70710678 -0.64549722 -0.19425717]\n",
            " [ 0.372678    0.         -0.64549722 -1.16554303]\n",
            " [ 1.49071198 -1.41421356 -0.64549722 -0.6799001 ]]\n",
            " ---------------------------------------- \n",
            "\n"
          ]
        }
      ]
    },
    {
      "cell_type": "code",
      "execution_count": null,
      "metadata": {
        "id": "a0wopXAsd_59"
      },
      "outputs": [],
      "source": [
        "#type your code here:\n"
      ]
    },
    {
      "cell_type": "markdown",
      "metadata": {
        "id": "lrxxT8K0d_5-"
      },
      "source": [
        "### Step 2: Calculate the covariance matrix for the features in the dataset."
      ]
    },
    {
      "cell_type": "markdown",
      "metadata": {
        "id": "rAkmoIu-d_6A"
      },
      "source": [
        "-  Calculate covariance matrix using the formula: $C = \\frac{X^TX}{n-1}$,  where $n$ is the number of data points.\n",
        "##### Note: This formula is used because the data has <b>zero</b> mean and <b>1</b> standard deviation.\n",
        "\n",
        "| | Feature #1 | Feature #2 | Feature #3 | Feature #4 |\n",
        "| --- | --- | --- | --- | --- |\n",
        "|**Feature #1** |  1.         | -0.31622777 |  0.04811252 | -0.18098843 |\n",
        "|**Feature #2** | -0.31622777 |  1.         |  0.63900965 |  0.61812254 |\n",
        "|**Feature #3** |  0.04811252 |  0.63900965 |  1.         |  0.94044349 |\n",
        "|**Feature #4** | -0.18098843 |  0.61812254 |  0.94044349 |  1.         |"
      ]
    },
    {
      "cell_type": "code",
      "source": [
        "cov = (X.T.dot(X)) / (len(X) - 1)\n",
        "print(\"-\"* 20, \"cov(C)\", \"-\" * 20, f\"\\n {cov}\\n\", \"-\" * 40, \"\\n\")"
      ],
      "metadata": {
        "colab": {
          "base_uri": "https://localhost:8080/"
        },
        "id": "mhznJYTsgybN",
        "outputId": "f8fc696e-4396-4f1b-a140-d9d8d4e2e6d6"
      },
      "execution_count": null,
      "outputs": [
        {
          "output_type": "stream",
          "name": "stdout",
          "text": [
            "-------------------- cov(C) -------------------- \n",
            " [[ 1.25       -0.39528471  0.06014065 -0.22623554]\n",
            " [-0.39528471  1.25        0.79876206  0.77265317]\n",
            " [ 0.06014065  0.79876206  1.25        1.17555437]\n",
            " [-0.22623554  0.77265317  1.17555437  1.25      ]]\n",
            " ---------------------------------------- \n",
            "\n"
          ]
        }
      ]
    },
    {
      "cell_type": "code",
      "execution_count": null,
      "metadata": {
        "id": "nxswoXkMd_6B",
        "outputId": "c099ed3f-ee0b-4a7c-de5b-3bfa6610a9a3"
      },
      "outputs": [
        {
          "name": "stdout",
          "output_type": "stream",
          "text": [
            "C = \n",
            "[[ 1.         -0.31622777  0.04811252 -0.18098843]\n",
            " [-0.31622777  1.          0.63900965  0.61812254]\n",
            " [ 0.04811252  0.63900965  1.          0.94044349]\n",
            " [-0.18098843  0.61812254  0.94044349  1.        ]]\n",
            "\n"
          ]
        }
      ],
      "source": [
        "#type your code here:\n"
      ]
    },
    {
      "cell_type": "markdown",
      "metadata": {
        "id": "gV_I51jFd_6C"
      },
      "source": [
        "### Step 3: Calculate the eigenvalues and eigenvectors for the covariance matrix and sort eigenvalues and their corresponding eigenvectors.\n",
        "\n",
        "- Find eigen values and the corresponding eigen vectors for the covariance matrix\n",
        "- Calculate how much variance captured in each component. $\\frac{\\lambda_j}{\\sum_{k=1}^{m}\\lambda_k}$, where $m$ is the number of features.\n",
        "\n",
        "| Eigenvector #1 | Eigenvector #2 | Eigenvector #3 | Eigenvector #4 |\n",
        "| --- | --- | --- | --- |\n",
        "| 0.16195986 | -0.91705888 | -0.30707099 |  0.19616173 |\n",
        "|-0.52404813 |  0.20692161 | -0.81731886 |  0.12061043 |\n",
        "|-0.58589647 | -0.3205394  |  0.1882497  | -0.72009851 |\n",
        "|-0.59654663 | -0.11593512 |  0.44973251 |  0.65454704 |"
      ]
    },
    {
      "cell_type": "code",
      "source": [
        "eValues, eVectors = np.linalg.eig(cov)\n",
        "idx = np.argsort(eValues)[::-1]\n",
        "eValues, eVectors = eValues[idx], eVectors[idx]\n",
        "print(\"-\"* 20, \"Eigenvalues \", \"-\" * 20, f\"\\n {eValues}\\n\", \"-\" * 40, \"\\n\")\n",
        "print(\"-\"* 20, \"Percentage of variance  \", \"-\" * 20, f\"\\n {eValues / np.sum(eValues)}\\n\", \"-\" * 40, \"\\n\")\n",
        "print(\"-\"* 20, \"Eigenvectors  \", \"-\" * 20, f\"\\n {eVectors}\\n\", \"-\" * 40, \"\\n\")\n",
        "np.linalg.norm(eVectors[:,3])"
      ],
      "metadata": {
        "colab": {
          "base_uri": "https://localhost:8080/"
        },
        "id": "FkLZh0M2hQe2",
        "outputId": "4a092325-7f6f-4e80-ab29-5837a4011f81"
      },
      "execution_count": null,
      "outputs": [
        {
          "output_type": "stream",
          "name": "stdout",
          "text": [
            "-------------------- Eigenvalues  -------------------- \n",
            " [3.14474155 1.33161063 0.4923588  0.03128901]\n",
            " ---------------------------------------- \n",
            "\n",
            "-------------------- Percentage of variance   -------------------- \n",
            " [0.62894831 0.26632213 0.09847176 0.0062578 ]\n",
            " ---------------------------------------- \n",
            "\n",
            "-------------------- Eigenvectors   -------------------- \n",
            " [[ 0.16195986 -0.91705888 -0.30707099  0.19616173]\n",
            " [-0.52404813  0.20692161 -0.81731886  0.12061043]\n",
            " [-0.58589647 -0.3205394   0.1882497  -0.72009851]\n",
            " [-0.59654663 -0.11593512  0.44973251  0.65454704]]\n",
            " ---------------------------------------- \n",
            "\n"
          ]
        },
        {
          "output_type": "execute_result",
          "data": {
            "text/plain": [
              "1.0"
            ]
          },
          "metadata": {},
          "execution_count": 16
        }
      ]
    },
    {
      "cell_type": "code",
      "execution_count": null,
      "metadata": {
        "id": "Jhry2JtHd_6D",
        "outputId": "2a5266b7-6e9d-4240-9c72-b703928ffe66"
      },
      "outputs": [
        {
          "name": "stdout",
          "output_type": "stream",
          "text": [
            "Eigenvalues = \n",
            "[2.51579324 1.0652885  0.39388704 0.02503121]\n",
            "---------------------------------------------\n",
            "Percentage of variance = \n",
            " [0.62894831 0.26632213 0.09847176 0.0062578 ]\n",
            "---------------------------------------------\n",
            "Eigenvectors = \n",
            "[[ 0.16195986 -0.91705888 -0.30707099  0.19616173]\n",
            " [-0.52404813  0.20692161 -0.81731886  0.12061043]\n",
            " [-0.58589647 -0.3205394   0.1882497  -0.72009851]\n",
            " [-0.59654663 -0.11593512  0.44973251  0.65454704]]\n"
          ]
        }
      ],
      "source": [
        "#type your code here:\n"
      ]
    },
    {
      "cell_type": "markdown",
      "metadata": {
        "id": "T4AyZ-o3d_6D"
      },
      "source": [
        "### Step 4: Pick $k$ eigenvalues and form a matrix of eigenvectors.\n",
        "\n",
        "- Select the first two eigen vectors"
      ]
    },
    {
      "cell_type": "code",
      "source": [
        "eig_vecs_2  = X @ eVectors[:, :2]\n",
        "print(\"-\"* 20, \"eig_vecs_2\", \"-\" * 20, f\"\\n {eig_vecs_2}\\n\", \"-\" * 40, \"\\n\")"
      ],
      "metadata": {
        "colab": {
          "base_uri": "https://localhost:8080/"
        },
        "id": "IeA3oWILkFAK",
        "outputId": "b37ef695-26df-496c-d1c5-b181c77046c9"
      },
      "execution_count": null,
      "outputs": [
        {
          "output_type": "stream",
          "name": "stdout",
          "text": [
            "-------------------- eig_vecs_2 -------------------- \n",
            " [[ 1.56561741e-02  8.45205482e-01]\n",
            " [-2.85829190e+00 -8.72549250e-01]\n",
            " [-5.75566043e-02  1.40104719e+00]\n",
            " [ 1.13385419e+00  2.66995807e-04]\n",
            " [ 1.76633814e+00 -1.37397042e+00]]\n",
            " ---------------------------------------- \n",
            "\n"
          ]
        }
      ]
    },
    {
      "cell_type": "code",
      "execution_count": null,
      "metadata": {
        "id": "qkHxOyNTd_6E",
        "outputId": "5541732e-03e7-470f-b340-75cd6158cd07"
      },
      "outputs": [
        {
          "name": "stdout",
          "output_type": "stream",
          "text": [
            "eig_vecs_2 = \n",
            " [[ 0.16195986 -0.91705888]\n",
            " [-0.52404813  0.20692161]\n",
            " [-0.58589647 -0.3205394 ]\n",
            " [-0.59654663 -0.11593512]]\n"
          ]
        }
      ],
      "source": [
        "#type your code here:\n"
      ]
    },
    {
      "cell_type": "markdown",
      "metadata": {
        "id": "qcwhQW4Dd_6F"
      },
      "source": [
        "### Step 5:Transform the standardized matrix matrix.\n",
        "\n",
        "- `M_transformed = X @ eig_vecs_2`"
      ]
    },
    {
      "cell_type": "code",
      "source": [
        "X.shape , eig_vecs_2.shape"
      ],
      "metadata": {
        "colab": {
          "base_uri": "https://localhost:8080/"
        },
        "id": "sgWyx-BvxkI9",
        "outputId": "76f3ec28-c8c2-4050-e71a-958ed0e861d8"
      },
      "execution_count": null,
      "outputs": [
        {
          "output_type": "execute_result",
          "data": {
            "text/plain": [
              "((5, 4), (5, 2))"
            ]
          },
          "metadata": {},
          "execution_count": 18
        }
      ]
    },
    {
      "cell_type": "code",
      "source": [
        "M_transformed = X.T @ eig_vecs_2\n",
        "print(\"-\"* 20, \"M_transformed\", \"-\" * 20, f\"\\n {M_transformed}\\n\", \"-\" * 40, \"\\n\")"
      ],
      "metadata": {
        "colab": {
          "base_uri": "https://localhost:8080/"
        },
        "id": "EO-w-kXhkoV8",
        "outputId": "dd4404c8-b8c5-44d8-e24e-f3501daadc4f"
      },
      "execution_count": null,
      "outputs": [
        {
          "output_type": "stream",
          "name": "stdout",
          "text": [
            "-------------------- M_transformed -------------------- \n",
            " [[ 2.03728755 -4.88466141]\n",
            " [-6.59198377  1.10215606]\n",
            " [-7.36997193 -1.70733468]\n",
            " [-7.50393989 -0.61752174]]\n",
            " ---------------------------------------- \n",
            "\n"
          ]
        }
      ]
    },
    {
      "cell_type": "code",
      "execution_count": null,
      "metadata": {
        "id": "HUl--DCRd_6F",
        "outputId": "e9dc3f45-d422-4ed2-9eb5-cc1274af3ae3"
      },
      "outputs": [
        {
          "name": "stdout",
          "output_type": "stream",
          "text": [
            "M_transformed = \n",
            " [[ 0.01400331  0.75597476]\n",
            " [-2.55653399 -0.78043177]\n",
            " [-0.05148019  1.2531347 ]\n",
            " [ 1.01415002  0.00023881]\n",
            " [ 1.57986086 -1.2289165 ]]\n"
          ]
        }
      ],
      "source": [
        "#type your code here:\n"
      ]
    },
    {
      "cell_type": "markdown",
      "metadata": {
        "id": "TEf6jXD9d_6F"
      },
      "source": [
        "# Question 2 : Singular Value Decomposition (SVD)\n",
        "\n",
        "#### For a square (real) matrices of size $(n,n)$ can be \"eigendecomposed\"  :\n",
        "$$A = V . Diag(\\Lambda). V^T$$\n",
        "\n",
        "With $V$: eigenvectors\n",
        "; $Diag(\\Lambda)$: eigenvalues (on the diagonal).\n",
        "\n",
        "#### But for a non square  of size $(n,m) (n \\neq m)$, we need to use the  Singular Value Decomposition (SVD)\n",
        "\n",
        "- Let $A $ be a matrix of size $(n,m)$ with  $n \\neq m$ the SVD of A is defined by:\n",
        "\n",
        "$$A= U . S . V^T $$\n",
        "\n",
        "Where:\n",
        " $U$: size $(n,n)$, square;\n",
        " $V$: size $(m,m)$, square;\n",
        " $S$: size $(n,m)$, rectanguler if $n \\neq m$\n",
        "\n",
        "- The values on the \"diagonal\" of $S$ are called: **singular values**. The singular values are generally sorted by decreasing order.\n",
        "- The columns of $U$ are called the **left-singular vectors**\n",
        "- The columns of $V$ are called the **right-singular vectors**"
      ]
    },
    {
      "cell_type": "markdown",
      "metadata": {
        "id": "_jde_qCVd_6G"
      },
      "source": [
        "#### (a) For the matrix $A$, find the SVD"
      ]
    },
    {
      "cell_type": "code",
      "execution_count": null,
      "metadata": {
        "id": "28TWvVSzd_6G",
        "outputId": "440b1d8e-56a8-4694-cbcb-f27effac2084",
        "colab": {
          "base_uri": "https://localhost:8080/"
        }
      },
      "outputs": [
        {
          "output_type": "stream",
          "name": "stdout",
          "text": [
            "n =  4\n",
            "---------------------------------------------\n",
            "m =  3\n",
            "---------------------------------------------\n",
            "rank =  3\n",
            "---------------------------------------------\n",
            "A = \n",
            " [[1 1 1]\n",
            " [3 4 5]\n",
            " [4 4 4]\n",
            " [4 5 4]]\n"
          ]
        }
      ],
      "source": [
        "A = np.array([[1, 1, 1],\n",
        "              [3, 4, 5],\n",
        "              [4, 4, 4],\n",
        "              [4, 5, 4]\n",
        "              ])\n",
        "rank = np.linalg.matrix_rank(A)\n",
        "n, m = A.shape\n",
        "print(\"n = \", n)\n",
        "print(\"---------------------------------------------\")\n",
        "print(\"m = \", m)\n",
        "print(\"---------------------------------------------\")\n",
        "print(\"rank = \", rank)\n",
        "print(\"---------------------------------------------\")\n",
        "print(\"A = \\n\", A)"
      ]
    },
    {
      "cell_type": "markdown",
      "metadata": {
        "id": "eNzm-Mhhd_6I"
      },
      "source": [
        "- `U, s, VT = np.linalg.svd(A, full_matrices=True)`"
      ]
    },
    {
      "cell_type": "code",
      "source": [
        "U, s, VT = np.linalg.svd(A, full_matrices=True)\n",
        "print(\"-\"* 20, \"U\", \"-\" * 20, f\"\\n {U}\\n\", \"-\" * 40, \"\\n\")\n",
        "print(\"-\"* 20, \"s\", \"-\" * 20, f\"\\n {s}\\n\", \"-\" * 40, \"\\n\")\n",
        "print(\"-\"* 20, \"VT\", \"-\" * 20, f\"\\n {VT}\\n\", \"-\" * 40, \"\\n\")"
      ],
      "metadata": {
        "colab": {
          "base_uri": "https://localhost:8080/"
        },
        "id": "GUUowdt0yiPy",
        "outputId": "e0a7de03-2a3c-4542-f524-1988736aa78c"
      },
      "execution_count": null,
      "outputs": [
        {
          "output_type": "stream",
          "name": "stdout",
          "text": [
            "-------------------- U -------------------- \n",
            " [[-1.38201662e-01  6.54749524e-02 -1.88246808e-01 -9.70142500e-01]\n",
            " [-5.59976765e-01 -8.18823566e-01  1.26309104e-01 -1.27675648e-15]\n",
            " [-5.52806648e-01  2.61899810e-01 -7.52987231e-01  2.42535625e-01]\n",
            " [-6.01440881e-01  5.06605850e-01  6.17753494e-01 -1.44328993e-15]]\n",
            " ---------------------------------------- \n",
            "\n",
            "-------------------- s -------------------- \n",
            " [12.49789499  1.23098537  0.53599988]\n",
            " ---------------------------------------- \n",
            "\n",
            "-------------------- VT -------------------- \n",
            " [[-0.51489647 -0.60782554 -0.60450785]\n",
            " [ 0.55486191  0.30122956 -0.77549276]\n",
            " [-0.65345993  0.73471687 -0.1821572 ]]\n",
            " ---------------------------------------- \n",
            "\n"
          ]
        }
      ]
    },
    {
      "cell_type": "code",
      "execution_count": null,
      "metadata": {
        "id": "8r9-zF8rd_6I",
        "outputId": "762ef7b1-a00c-4da4-da75-99d3019a0826"
      },
      "outputs": [
        {
          "name": "stdout",
          "output_type": "stream",
          "text": [
            "U:\n",
            " [[-0.13820166 -0.06547495 -0.18824681 -0.9701425 ]\n",
            " [-0.55997677  0.81882357  0.1263091  -0.        ]\n",
            " [-0.55280665 -0.26189981 -0.75298723  0.24253563]\n",
            " [-0.60144088 -0.50660585  0.61775349 -0.        ]]\n",
            "---------------------------------------------\n",
            "s:\n",
            " [12.49789499  1.23098537  0.53599988]\n",
            "---------------------------------------------\n",
            "VT:\n",
            " [[-0.51489647 -0.60782554 -0.60450785]\n",
            " [-0.55486191 -0.30122956  0.77549276]\n",
            " [-0.65345993  0.73471687 -0.1821572 ]]\n"
          ]
        }
      ],
      "source": [
        "#type your code here:\n"
      ]
    },
    {
      "cell_type": "markdown",
      "metadata": {
        "id": "Ipb26y5hd_6J"
      },
      "source": [
        "- Construct the matrix $A$ from the SVD:\n",
        "$$A= U . S . V^T $$\n",
        "Where:\n",
        " $U$: size $(n,n)$, square;\n",
        " $V$: size $(m,m)$, square;\n",
        " $S$: size $(n,m)$, rectanguler if $n \\neq m$"
      ]
    },
    {
      "cell_type": "code",
      "source": [
        "U.shape, np.diag(s).shape, VT.shape"
      ],
      "metadata": {
        "colab": {
          "base_uri": "https://localhost:8080/"
        },
        "id": "2dhP1D6K0F2P",
        "outputId": "050eb51c-605b-490e-fde7-39065a962834"
      },
      "execution_count": null,
      "outputs": [
        {
          "output_type": "execute_result",
          "data": {
            "text/plain": [
              "((4, 4), (3, 3), (3, 3))"
            ]
          },
          "metadata": {},
          "execution_count": 16
        }
      ]
    },
    {
      "cell_type": "code",
      "source": [
        "S = np.diag(s)\n",
        "S = np.vstack([S, np.zeros((1,3))])\n",
        "print(\"-\"* 20, \"U\", \"-\" * 20, f\"\\n {U}\\n\", \"-\" * 40, \"\\n\")\n",
        "print(\"-\"* 20, \"S\", \"-\" * 20, f\"\\n {S}\\n\", \"-\" * 40, \"\\n\")\n",
        "print(\"-\"* 20, \"VT\", \"-\" * 20, f\"\\n {VT}\\n\", \"-\" * 40, \"\\n\")\n",
        "print(\"-\"* 20, \"A\", \"-\" * 20, f\"\\n {A}\\n\", \"-\" * 40, \"\\n\")\n",
        "print(\"-\"* 20, \"U @ S @ VT\", \"-\" * 20, f\"\\n {(U @ S) @ VT}\\n\", \"-\" * 40, \"\\n\")"
      ],
      "metadata": {
        "colab": {
          "base_uri": "https://localhost:8080/"
        },
        "id": "Jo2owGSCzSB8",
        "outputId": "dded47c6-03cc-4f48-fe0a-249369f2ffad"
      },
      "execution_count": null,
      "outputs": [
        {
          "output_type": "stream",
          "name": "stdout",
          "text": [
            "-------------------- U -------------------- \n",
            " [[-1.38201662e-01  6.54749524e-02 -1.88246808e-01 -9.70142500e-01]\n",
            " [-5.59976765e-01 -8.18823566e-01  1.26309104e-01 -1.27675648e-15]\n",
            " [-5.52806648e-01  2.61899810e-01 -7.52987231e-01  2.42535625e-01]\n",
            " [-6.01440881e-01  5.06605850e-01  6.17753494e-01 -1.44328993e-15]]\n",
            " ---------------------------------------- \n",
            "\n",
            "-------------------- S -------------------- \n",
            " [[12.49789499  0.          0.        ]\n",
            " [ 0.          1.23098537  0.        ]\n",
            " [ 0.          0.          0.53599988]\n",
            " [ 0.          0.          0.        ]]\n",
            " ---------------------------------------- \n",
            "\n",
            "-------------------- VT -------------------- \n",
            " [[-0.51489647 -0.60782554 -0.60450785]\n",
            " [ 0.55486191  0.30122956 -0.77549276]\n",
            " [-0.65345993  0.73471687 -0.1821572 ]]\n",
            " ---------------------------------------- \n",
            "\n",
            "-------------------- A -------------------- \n",
            " [[1 1 1]\n",
            " [3 4 5]\n",
            " [4 4 4]\n",
            " [4 5 4]]\n",
            " ---------------------------------------- \n",
            "\n",
            "-------------------- U @ S @ VT -------------------- \n",
            " [[1. 1. 1.]\n",
            " [3. 4. 5.]\n",
            " [4. 4. 4.]\n",
            " [4. 5. 4.]]\n",
            " ---------------------------------------- \n",
            "\n"
          ]
        }
      ]
    },
    {
      "cell_type": "code",
      "execution_count": null,
      "metadata": {
        "id": "oqst9flMd_6J",
        "outputId": "c316e2e8-8bc7-4024-b5d4-0f8d45f4ba01"
      },
      "outputs": [
        {
          "name": "stdout",
          "output_type": "stream",
          "text": [
            "U=\n",
            " [[-0.13820166 -0.06547495 -0.18824681 -0.9701425 ]\n",
            " [-0.55997677  0.81882357  0.1263091  -0.        ]\n",
            " [-0.55280665 -0.26189981 -0.75298723  0.24253563]\n",
            " [-0.60144088 -0.50660585  0.61775349 -0.        ]]\n",
            "---------------------------------------------\n",
            "S=\n",
            " [[12.49789499  0.          0.        ]\n",
            " [ 0.          1.23098537  0.        ]\n",
            " [ 0.          0.          0.53599988]\n",
            " [ 0.          0.          0.        ]]\n",
            "---------------------------------------------\n",
            "VT=\n",
            " [[-0.51489647 -0.60782554 -0.60450785]\n",
            " [-0.55486191 -0.30122956  0.77549276]\n",
            " [-0.65345993  0.73471687 -0.1821572 ]]\n",
            "---------------------------------------------\n",
            "A = \n",
            " [[1 1 1]\n",
            " [3 4 5]\n",
            " [4 4 4]\n",
            " [4 5 4]]\n",
            "---------------------------------------------\n",
            "U @ S @ VT=\n",
            " [[1. 1. 1.]\n",
            " [3. 4. 5.]\n",
            " [4. 4. 4.]\n",
            " [4. 5. 4.]]\n"
          ]
        }
      ],
      "source": [
        "#type your code here:\n"
      ]
    },
    {
      "cell_type": "markdown",
      "metadata": {
        "id": "YNE7mR6wd_6J"
      },
      "source": [
        "#### $k$-rank approximation\n",
        "\n",
        "- Construct the matrix $\\tilde{A}$ using **$k$-rank approximation**.\n",
        "- Calculate the approximation error using frobenius norm.\n",
        "\n",
        "$$\\tilde{A}= \\tilde{U} . \\tilde{S} . \\tilde{V}^T $$\n",
        "Where:\n",
        " $\\tilde{U}$: size $(n,k)$,\n",
        "  $\\tilde{S}$: size $(k,k)$,\n",
        " $\\tilde{V}$: size $(k,m)$;\n"
      ]
    },
    {
      "cell_type": "code",
      "source": [
        "k = 3\n",
        "print(\"-\"* 20, \"k\", \"-\" * 20, f\"\\n {k}\\n\", \"-\" * 40, \"\\n\")\n",
        "print(\"-\"* 20, \"A\", \"-\" * 20, f\"\\n {A}\\n\", \"-\" * 40, \"\\n\")\n",
        "A_tildle = U[:, :k] @ S[:k, :k] @ VT[:k, :]\n",
        "print(\"-\"* 20, \"A_tildle\", \"-\" * 20, f\"\\n {A_tildle}\\n\", \"-\" * 40, \"\\n\")\n",
        "print(\"-\"* 20, \"A_tildle_rank\", \"-\" * 20, f\"\\n {np.linalg.matrix_rank(A_tildle)}\\n\", \"-\" * 40, \"\\n\")\n",
        "print(\"-\"* 20, \"error\", \"-\" * 20, f\"\\n {np.linalg.norm(A - A_tildle)}\\n\", \"-\" * 40, \"\\n\")"
      ],
      "metadata": {
        "colab": {
          "base_uri": "https://localhost:8080/"
        },
        "id": "lWXCV7h-7jhZ",
        "outputId": "2b924816-7b74-420f-b29e-b38f2379556c"
      },
      "execution_count": null,
      "outputs": [
        {
          "output_type": "stream",
          "name": "stdout",
          "text": [
            "-------------------- k -------------------- \n",
            " 3\n",
            " ---------------------------------------- \n",
            "\n",
            "-------------------- A -------------------- \n",
            " [[1 1 1]\n",
            " [3 4 5]\n",
            " [4 4 4]\n",
            " [4 5 4]]\n",
            " ---------------------------------------- \n",
            "\n",
            "-------------------- A_tildle -------------------- \n",
            " [[1. 1. 1.]\n",
            " [3. 4. 5.]\n",
            " [4. 4. 4.]\n",
            " [4. 5. 4.]]\n",
            " ---------------------------------------- \n",
            "\n",
            "-------------------- A_tildle_rank -------------------- \n",
            " 3\n",
            " ---------------------------------------- \n",
            "\n",
            "-------------------- error -------------------- \n",
            " 7.360200912728141e-15\n",
            " ---------------------------------------- \n",
            "\n"
          ]
        }
      ]
    },
    {
      "cell_type": "code",
      "execution_count": null,
      "metadata": {
        "id": "yYpTTYoFd_6K",
        "outputId": "b40ccf06-22f1-4bd7-d4da-b7d59ad9038e"
      },
      "outputs": [
        {
          "name": "stdout",
          "output_type": "stream",
          "text": [
            "---------------------------------------------\n",
            "k =\n",
            " 3\n",
            "---------------------------------------------\n",
            "A = \n",
            " [[1 1 1]\n",
            " [3 4 5]\n",
            " [4 4 4]\n",
            " [4 5 4]]\n",
            "---------------------------------------------\n",
            "A_tilde = \n",
            " [[1. 1. 1.]\n",
            " [3. 4. 5.]\n",
            " [4. 4. 4.]\n",
            " [4. 5. 4.]]\n",
            "---------------------------------------------\n",
            "A_tilde_rank = \n",
            " 3\n",
            "---------------------------------------------\n",
            "error = \n",
            " 8.350323853034144e-15\n"
          ]
        }
      ],
      "source": [
        "#type your code here:\n"
      ]
    },
    {
      "cell_type": "code",
      "source": [
        "k = 2\n",
        "print(\"-\"* 20, \"k\", \"-\" * 20, f\"\\n {k}\\n\", \"-\" * 40, \"\\n\")\n",
        "print(\"-\"* 20, \"A\", \"-\" * 20, f\"\\n {A}\\n\", \"-\" * 40, \"\\n\")\n",
        "A_tildle = U[:, :k] @ S[:k, :k] @ VT[:k, :]\n",
        "print(\"-\"* 20, \"A_tildle\", \"-\" * 20, f\"\\n {A_tildle}\\n\", \"-\" * 40, \"\\n\")\n",
        "print(\"-\"* 20, \"A_tildle_rank\", \"-\" * 20, f\"\\n {np.linalg.matrix_rank(A_tildle)}\\n\", \"-\" * 40, \"\\n\")\n",
        "print(\"-\"* 20, \"error\", \"-\" * 20, f\"\\n {np.linalg.norm(A - A_tildle)}\\n\", \"-\" * 40, \"\\n\")"
      ],
      "metadata": {
        "colab": {
          "base_uri": "https://localhost:8080/"
        },
        "id": "r9ZqKE8H_Rlc",
        "outputId": "6f221b03-8936-40e8-a540-cc6dc6835aaf"
      },
      "execution_count": null,
      "outputs": [
        {
          "output_type": "stream",
          "name": "stdout",
          "text": [
            "-------------------- k -------------------- \n",
            " 2\n",
            " ---------------------------------------- \n",
            "\n",
            "-------------------- A -------------------- \n",
            " [[1 1 1]\n",
            " [3 4 5]\n",
            " [4 4 4]\n",
            " [4 5 4]]\n",
            " ---------------------------------------- \n",
            "\n",
            "-------------------- A_tildle -------------------- \n",
            " [[0.93406572 1.07413313 0.98162029]\n",
            " [3.04424033 3.95025845 5.01233235]\n",
            " [3.73626287 4.29653251 3.92648116]\n",
            " [4.21637091 4.75672364 4.06031513]]\n",
            " ---------------------------------------- \n",
            "\n",
            "-------------------- A_tildle_rank -------------------- \n",
            " 2\n",
            " ---------------------------------------- \n",
            "\n",
            "-------------------- error -------------------- \n",
            " 0.5359998808909961\n",
            " ---------------------------------------- \n",
            "\n"
          ]
        }
      ]
    },
    {
      "cell_type": "code",
      "execution_count": null,
      "metadata": {
        "id": "vCwZMNWJd_6K",
        "outputId": "67c847df-75fd-4f8f-9d88-7e42e2ffd76f"
      },
      "outputs": [
        {
          "name": "stdout",
          "output_type": "stream",
          "text": [
            "---------------------------------------------\n",
            "k =\n",
            " 2\n",
            "---------------------------------------------\n",
            "A = \n",
            " [[1 1 1]\n",
            " [3 4 5]\n",
            " [4 4 4]\n",
            " [4 5 4]]\n",
            "---------------------------------------------\n",
            "A_tilde = \n",
            " [[0.93406572 1.07413313 0.98162029]\n",
            " [3.04424033 3.95025845 5.01233235]\n",
            " [3.73626287 4.29653251 3.92648116]\n",
            " [4.21637091 4.75672364 4.06031513]]\n",
            "---------------------------------------------\n",
            "A_tilde_rank = \n",
            " 2\n",
            "---------------------------------------------\n",
            "error = \n",
            " 0.535999880890996\n"
          ]
        }
      ],
      "source": [
        "#type your code here:\n"
      ]
    },
    {
      "cell_type": "code",
      "source": [
        "k = 1\n",
        "print(\"-\"* 20, \"k\", \"-\" * 20, f\"\\n {k}\\n\", \"-\" * 40, \"\\n\")\n",
        "print(\"-\"* 20, \"A\", \"-\" * 20, f\"\\n {A}\\n\", \"-\" * 40, \"\\n\")\n",
        "A_tildle = U[:, :k] @ S[:k, :k] @ VT[:k, :]\n",
        "print(\"-\"* 20, \"A_tildle\", \"-\" * 20, f\"\\n {A_tildle}\\n\", \"-\" * 40, \"\\n\")\n",
        "print(\"-\"* 20, \"A_tildle_rank\", \"-\" * 20, f\"\\n {np.linalg.matrix_rank(A_tildle)}\\n\", \"-\" * 40, \"\\n\")\n",
        "print(\"-\"* 20, \"error\", \"-\" * 20, f\"\\n {np.linalg.norm(A - A_tildle)}\\n\", \"-\" * 40, \"\\n\")"
      ],
      "metadata": {
        "colab": {
          "base_uri": "https://localhost:8080/"
        },
        "id": "eX42VJdt_WNH",
        "outputId": "47b96ca3-124a-4b01-f0a7-33093ce3310c"
      },
      "execution_count": null,
      "outputs": [
        {
          "output_type": "stream",
          "name": "stdout",
          "text": [
            "-------------------- k -------------------- \n",
            " 1\n",
            " ---------------------------------------- \n",
            "\n",
            "-------------------- A -------------------- \n",
            " [[1 1 1]\n",
            " [3 4 5]\n",
            " [4 4 4]\n",
            " [4 5 4]]\n",
            " ---------------------------------------- \n",
            "\n",
            "-------------------- A_tildle -------------------- \n",
            " [[0.88934457 1.04985441 1.044124  ]\n",
            " [3.60351884 4.25388574 4.2306668 ]\n",
            " [3.55737826 4.19941766 4.17649602]\n",
            " [3.87034549 4.56886954 4.54393133]]\n",
            " ---------------------------------------- \n",
            "\n",
            "-------------------- A_tildle_rank -------------------- \n",
            " 1\n",
            " ---------------------------------------- \n",
            "\n",
            "-------------------- error -------------------- \n",
            " 1.3426171667971218\n",
            " ---------------------------------------- \n",
            "\n"
          ]
        }
      ]
    },
    {
      "cell_type": "code",
      "execution_count": null,
      "metadata": {
        "id": "Q_Eay14ad_6K",
        "outputId": "b1cc13bc-8148-46a0-db97-f2ad98f1fe5f"
      },
      "outputs": [
        {
          "name": "stdout",
          "output_type": "stream",
          "text": [
            "---------------------------------------------\n",
            "k =\n",
            " 1\n",
            "---------------------------------------------\n",
            "A = \n",
            " [[1 1 1]\n",
            " [3 4 5]\n",
            " [4 4 4]\n",
            " [4 5 4]]\n",
            "---------------------------------------------\n",
            "A_tilde = \n",
            " [[0.88934457 1.04985441 1.044124  ]\n",
            " [3.60351884 4.25388574 4.2306668 ]\n",
            " [3.55737826 4.19941766 4.17649602]\n",
            " [3.87034549 4.56886954 4.54393133]]\n",
            "---------------------------------------------\n",
            "A_tilde_rank = \n",
            " 1\n",
            "---------------------------------------------\n",
            "error = \n",
            " 1.3426171667971218\n"
          ]
        }
      ],
      "source": [
        "#type your code here:\n"
      ]
    },
    {
      "cell_type": "markdown",
      "metadata": {
        "id": "wCfRTSgPd_6L"
      },
      "source": [
        "#### (b) Repeat the previous steps in (a) for the following matrix"
      ]
    },
    {
      "cell_type": "code",
      "execution_count": null,
      "metadata": {
        "id": "003w3Mjid_6L",
        "outputId": "5f36216b-8c2a-4cb3-d1dc-e747dbcfe686",
        "colab": {
          "base_uri": "https://localhost:8080/"
        }
      },
      "outputs": [
        {
          "output_type": "stream",
          "name": "stdout",
          "text": [
            "n=  8\n",
            "---------------------------------------------\n",
            "m =  5\n",
            "---------------------------------------------\n",
            "rank =  3\n",
            "---------------------------------------------\n",
            "A = \n",
            " [[1 1 1 0 1]\n",
            " [3 4 5 1 0]\n",
            " [4 4 4 0 1]\n",
            " [4 5 4 1 1]\n",
            " [4 6 4 0 1]\n",
            " [4 7 4 1 1]\n",
            " [4 8 4 0 1]\n",
            " [4 9 4 1 0]]\n"
          ]
        }
      ],
      "source": [
        "A = np.array([[1, 1, 1, 0, 1],\n",
        "              [3, 4, 5, 1, 0],\n",
        "              [4, 4, 4, 0, 1],\n",
        "              [4, 5, 4, 1, 1],\n",
        "              [4, 6, 4, 0, 1],\n",
        "              [4, 7, 4, 1, 1],\n",
        "              [4, 8, 4, 0, 1],\n",
        "              [4, 9, 4, 1, 0],\n",
        "              ])\n",
        "\n",
        "n, m=A.shape\n",
        "print(\"n= \", n)\n",
        "print(\"---------------------------------------------\")\n",
        "print(\"m = \", m)\n",
        "print(\"---------------------------------------------\")\n",
        "print(\"rank = \", rank)\n",
        "print(\"---------------------------------------------\")\n",
        "print(\"A = \\n\", A)"
      ]
    },
    {
      "cell_type": "code",
      "source": [
        "U, s, VT = np.linalg.svd(A, full_matrices=True)\n",
        "print(\"-\"* 20, \"U\", \"-\" * 20, f\"\\n {U}\\n\", \"-\" * 40, \"\\n\")\n",
        "print(\"-\"* 20, \"s\", \"-\" * 20, f\"\\n {s}\\n\", \"-\" * 40, \"\\n\")\n",
        "print(\"-\"* 20, \"VT\", \"-\" * 20, f\"\\n {VT}\\n\", \"-\" * 40, \"\\n\")"
      ],
      "metadata": {
        "colab": {
          "base_uri": "https://localhost:8080/"
        },
        "id": "48mX8equ_kza",
        "outputId": "b4096163-ab4b-433d-e586-0ee43c77854d"
      },
      "execution_count": null,
      "outputs": [
        {
          "output_type": "stream",
          "name": "stdout",
          "text": [
            "-------------------- U -------------------- \n",
            " [[-7.79647196e-02  1.53017197e-01 -3.53029757e-01  2.28776787e-01\n",
            "   5.76962582e-01 -4.21743952e-01 -3.46284476e-01  4.03573651e-01]\n",
            " [-3.00949266e-01  5.20610942e-01  6.79399402e-01 -2.51753516e-01\n",
            "   3.36794308e-01 -5.55111512e-16 -3.05311332e-16  4.02455846e-16]\n",
            " [-3.00576700e-01  4.63617867e-01 -3.27397215e-01 -2.20288109e-01\n",
            "  -4.89461080e-01  1.17390447e-01  1.11468386e-01  5.22703038e-01]\n",
            " [-3.36545919e-01  2.83109965e-01 -4.23712681e-02  5.82223875e-01\n",
            "  -2.17668378e-01 -4.10437192e-01  2.98471402e-01 -4.01101281e-01]\n",
            " [-3.66610234e-01  7.50478785e-02 -3.01628285e-01 -3.07975353e-01\n",
            "  -6.53503597e-02  7.02203098e-02 -6.07979292e-01 -5.43411383e-01]\n",
            " [-4.02579453e-01 -1.05460024e-01 -1.66023380e-02  4.94536632e-01\n",
            "   2.06442342e-01  7.26745156e-01 -3.87580446e-02  9.84210424e-02]\n",
            " [-4.32643767e-01 -3.13522110e-01 -2.75859355e-01 -3.95662596e-01\n",
            "   3.58760361e-01 -8.21747690e-02  5.83082026e-01 -8.01850680e-02]\n",
            " [-4.64852261e-01 -5.43513653e-01  3.70740529e-01  2.83843017e-02\n",
            "  -3.01884073e-01 -3.16307964e-01 -2.59713357e-01  3.02680238e-01]]\n",
            " ---------------------------------------- \n",
            "\n",
            "-------------------- s -------------------- \n",
            " [22.57699942  3.35144935  1.90842851  1.00414786  0.62966044]\n",
            " ---------------------------------------- \n",
            "\n",
            "-------------------- VT -------------------- \n",
            " [[-0.45161209 -0.74541953 -0.4782719  -0.06665752 -0.08490591]\n",
            " [ 0.34372285 -0.65113632  0.65440094  0.04617323  0.16584191]\n",
            " [-0.36014096  0.02458908  0.35185784  0.51936256 -0.69003801]\n",
            " [ 0.19757174 -0.04402548 -0.30385545  0.84986617  0.38003491]\n",
            " [-0.713558    0.13352287  0.35620687  0.03761424  0.58711878]]\n",
            " ---------------------------------------- \n",
            "\n"
          ]
        }
      ]
    },
    {
      "cell_type": "code",
      "execution_count": null,
      "metadata": {
        "id": "vKTkSj6Hd_6M",
        "outputId": "e744ea53-e3d6-428f-be3c-0c8703a5ec78"
      },
      "outputs": [
        {
          "name": "stdout",
          "output_type": "stream",
          "text": [
            "U:\n",
            " [[-0.07796472  0.1530172  -0.35302976  0.22877679 -0.57696258 -0.38937491\n",
            "  -0.44740288  0.3299552 ]\n",
            " [-0.30094927  0.52061094  0.6793994  -0.25175352 -0.33679431 -0.\n",
            "  -0.          0.        ]\n",
            " [-0.3005767   0.46361787 -0.32739721 -0.22028811  0.48946108  0.15935356\n",
            "  -0.02773061  0.52274434]\n",
            " [-0.33654592  0.28310997 -0.04237127  0.58222388  0.21766838 -0.4401089\n",
            "   0.38618031 -0.2749455 ]\n",
            " [-0.36661023  0.07504788 -0.30162828 -0.30797535  0.06535036  0.02405806\n",
            "  -0.44256981 -0.68805437]\n",
            " [-0.40257945 -0.10546002 -0.01660234  0.49453663 -0.20644234  0.73214008\n",
            "  -0.05062814  0.0274791 ]\n",
            " [-0.43264377 -0.31352211 -0.27585935 -0.3956626  -0.35876036 -0.08606789\n",
            "   0.58215114  0.08282124]\n",
            " [-0.46485226 -0.54351365  0.37074053  0.0283843   0.30188407 -0.29203118\n",
            "  -0.33555216  0.2474664 ]]\n",
            "---------------------------------------------\n",
            "s:\n",
            " [22.57699942  3.35144935  1.90842851  1.00414786  0.62966044]\n",
            "---------------------------------------------\n",
            "VT:\n",
            " [[-0.45161209 -0.74541953 -0.4782719  -0.06665752 -0.08490591]\n",
            " [ 0.34372285 -0.65113632  0.65440094  0.04617323  0.16584191]\n",
            " [-0.36014096  0.02458908  0.35185784  0.51936256 -0.69003801]\n",
            " [ 0.19757174 -0.04402548 -0.30385545  0.84986617  0.38003491]\n",
            " [ 0.713558   -0.13352287 -0.35620687 -0.03761424 -0.58711878]]\n"
          ]
        }
      ],
      "source": [
        "#type your code here:\n"
      ]
    },
    {
      "cell_type": "code",
      "execution_count": null,
      "metadata": {
        "id": "rVw3C_nmd_6M",
        "outputId": "dcecf8a6-2db2-4b74-e80b-f6e5f07ba8e8",
        "colab": {
          "base_uri": "https://localhost:8080/"
        }
      },
      "outputs": [
        {
          "output_type": "stream",
          "name": "stdout",
          "text": [
            "-------------------- U -------------------- \n",
            " [[-7.79647196e-02  1.53017197e-01 -3.53029757e-01  2.28776787e-01\n",
            "   5.76962582e-01 -4.21743952e-01 -3.46284476e-01  4.03573651e-01]\n",
            " [-3.00949266e-01  5.20610942e-01  6.79399402e-01 -2.51753516e-01\n",
            "   3.36794308e-01 -5.55111512e-16 -3.05311332e-16  4.02455846e-16]\n",
            " [-3.00576700e-01  4.63617867e-01 -3.27397215e-01 -2.20288109e-01\n",
            "  -4.89461080e-01  1.17390447e-01  1.11468386e-01  5.22703038e-01]\n",
            " [-3.36545919e-01  2.83109965e-01 -4.23712681e-02  5.82223875e-01\n",
            "  -2.17668378e-01 -4.10437192e-01  2.98471402e-01 -4.01101281e-01]\n",
            " [-3.66610234e-01  7.50478785e-02 -3.01628285e-01 -3.07975353e-01\n",
            "  -6.53503597e-02  7.02203098e-02 -6.07979292e-01 -5.43411383e-01]\n",
            " [-4.02579453e-01 -1.05460024e-01 -1.66023380e-02  4.94536632e-01\n",
            "   2.06442342e-01  7.26745156e-01 -3.87580446e-02  9.84210424e-02]\n",
            " [-4.32643767e-01 -3.13522110e-01 -2.75859355e-01 -3.95662596e-01\n",
            "   3.58760361e-01 -8.21747690e-02  5.83082026e-01 -8.01850680e-02]\n",
            " [-4.64852261e-01 -5.43513653e-01  3.70740529e-01  2.83843017e-02\n",
            "  -3.01884073e-01 -3.16307964e-01 -2.59713357e-01  3.02680238e-01]]\n",
            " ---------------------------------------- \n",
            "\n",
            "-------------------- S -------------------- \n",
            " [[22.57699942  0.          0.          0.          0.        ]\n",
            " [ 0.          3.35144935  0.          0.          0.        ]\n",
            " [ 0.          0.          1.90842851  0.          0.        ]\n",
            " [ 0.          0.          0.          1.00414786  0.        ]\n",
            " [ 0.          0.          0.          0.          0.62966044]\n",
            " [ 0.          0.          0.          0.          0.        ]\n",
            " [ 0.          0.          0.          0.          0.        ]\n",
            " [ 0.          0.          0.          0.          0.        ]]\n",
            " ---------------------------------------- \n",
            "\n",
            "-------------------- VT -------------------- \n",
            " [[-0.45161209 -0.74541953 -0.4782719  -0.06665752 -0.08490591]\n",
            " [ 0.34372285 -0.65113632  0.65440094  0.04617323  0.16584191]\n",
            " [-0.36014096  0.02458908  0.35185784  0.51936256 -0.69003801]\n",
            " [ 0.19757174 -0.04402548 -0.30385545  0.84986617  0.38003491]\n",
            " [-0.713558    0.13352287  0.35620687  0.03761424  0.58711878]]\n",
            " ---------------------------------------- \n",
            "\n",
            "-------------------- A -------------------- \n",
            " [[1 1 1 0 1]\n",
            " [3 4 5 1 0]\n",
            " [4 4 4 0 1]\n",
            " [4 5 4 1 1]\n",
            " [4 6 4 0 1]\n",
            " [4 7 4 1 1]\n",
            " [4 8 4 0 1]\n",
            " [4 9 4 1 0]]\n",
            " ---------------------------------------- \n",
            "\n",
            "-------------------- U @ S @ VT -------------------- \n",
            " [[ 1.00000000e+00  1.00000000e+00  1.00000000e+00 -7.59907748e-17\n",
            "   1.00000000e+00]\n",
            " [ 3.00000000e+00  4.00000000e+00  5.00000000e+00  1.00000000e+00\n",
            "   2.49974794e-16]\n",
            " [ 4.00000000e+00  4.00000000e+00  4.00000000e+00  1.24364628e-16\n",
            "   1.00000000e+00]\n",
            " [ 4.00000000e+00  5.00000000e+00  4.00000000e+00  1.00000000e+00\n",
            "   1.00000000e+00]\n",
            " [ 4.00000000e+00  6.00000000e+00  4.00000000e+00 -5.18688329e-16\n",
            "   1.00000000e+00]\n",
            " [ 4.00000000e+00  7.00000000e+00  4.00000000e+00  1.00000000e+00\n",
            "   1.00000000e+00]\n",
            " [ 4.00000000e+00  8.00000000e+00  4.00000000e+00 -8.06315470e-16\n",
            "   1.00000000e+00]\n",
            " [ 4.00000000e+00  9.00000000e+00  4.00000000e+00  1.00000000e+00\n",
            "  -2.18770963e-16]]\n",
            " ---------------------------------------- \n",
            "\n"
          ]
        }
      ],
      "source": [
        "#type your code here:\n",
        "S = np.diag(s)\n",
        "shape0 = int(np.abs(U.shape[0] - VT.shape[0]))\n",
        "shape1 = int(VT.shape[1])\n",
        "S = np.vstack([S, np.zeros((shape0, shape1))])\n",
        "# S = np.vstack([S, np.zeros(3, 5)])\n",
        "print(\"-\"* 20, \"U\", \"-\" * 20, f\"\\n {U}\\n\", \"-\" * 40, \"\\n\")\n",
        "print(\"-\"* 20, \"S\", \"-\" * 20, f\"\\n {S}\\n\", \"-\" * 40, \"\\n\")\n",
        "print(\"-\"* 20, \"VT\", \"-\" * 20, f\"\\n {VT}\\n\", \"-\" * 40, \"\\n\")\n",
        "print(\"-\"* 20, \"A\", \"-\" * 20, f\"\\n {A}\\n\", \"-\" * 40, \"\\n\")\n",
        "print(\"-\"* 20, \"U @ S @ VT\", \"-\" * 20, f\"\\n {(U @ S) @ VT}\\n\", \"-\" * 40, \"\\n\")"
      ]
    },
    {
      "cell_type": "code",
      "execution_count": null,
      "metadata": {
        "id": "5kY1TVRAd_6M",
        "outputId": "23b77688-676e-49ff-807b-bfac968c6557",
        "colab": {
          "base_uri": "https://localhost:8080/"
        }
      },
      "outputs": [
        {
          "output_type": "stream",
          "name": "stdout",
          "text": [
            "-------------------- k -------------------- \n",
            " 5\n",
            " ---------------------------------------- \n",
            "\n",
            "-------------------- A -------------------- \n",
            " [[1 1 1 0 1]\n",
            " [3 4 5 1 0]\n",
            " [4 4 4 0 1]\n",
            " [4 5 4 1 1]\n",
            " [4 6 4 0 1]\n",
            " [4 7 4 1 1]\n",
            " [4 8 4 0 1]\n",
            " [4 9 4 1 0]]\n",
            " ---------------------------------------- \n",
            "\n",
            "-------------------- A_tildle -------------------- \n",
            " [[ 1.00000000e+00  1.00000000e+00  1.00000000e+00 -7.59907748e-17\n",
            "   1.00000000e+00]\n",
            " [ 3.00000000e+00  4.00000000e+00  5.00000000e+00  1.00000000e+00\n",
            "   2.49974794e-16]\n",
            " [ 4.00000000e+00  4.00000000e+00  4.00000000e+00  1.24364628e-16\n",
            "   1.00000000e+00]\n",
            " [ 4.00000000e+00  5.00000000e+00  4.00000000e+00  1.00000000e+00\n",
            "   1.00000000e+00]\n",
            " [ 4.00000000e+00  6.00000000e+00  4.00000000e+00 -5.18688329e-16\n",
            "   1.00000000e+00]\n",
            " [ 4.00000000e+00  7.00000000e+00  4.00000000e+00  1.00000000e+00\n",
            "   1.00000000e+00]\n",
            " [ 4.00000000e+00  8.00000000e+00  4.00000000e+00 -8.06315470e-16\n",
            "   1.00000000e+00]\n",
            " [ 4.00000000e+00  9.00000000e+00  4.00000000e+00  1.00000000e+00\n",
            "  -2.18770963e-16]]\n",
            " ---------------------------------------- \n",
            "\n",
            "-------------------- A_tildle_rank -------------------- \n",
            " 5\n",
            " ---------------------------------------- \n",
            "\n",
            "-------------------- error -------------------- \n",
            " 1.2101048349284035e-14\n",
            " ---------------------------------------- \n",
            "\n"
          ]
        }
      ],
      "source": [
        "#type your code here:\n",
        "k = 5\n",
        "print(\"-\"* 20, \"k\", \"-\" * 20, f\"\\n {k}\\n\", \"-\" * 40, \"\\n\")\n",
        "print(\"-\"* 20, \"A\", \"-\" * 20, f\"\\n {A}\\n\", \"-\" * 40, \"\\n\")\n",
        "A_tildle = U[:, :k] @ S[:k, :k] @ VT[:k, :]\n",
        "print(\"-\"* 20, \"A_tildle\", \"-\" * 20, f\"\\n {A_tildle}\\n\", \"-\" * 40, \"\\n\")\n",
        "print(\"-\"* 20, \"A_tildle_rank\", \"-\" * 20, f\"\\n {np.linalg.matrix_rank(A_tildle)}\\n\", \"-\" * 40, \"\\n\")\n",
        "print(\"-\"* 20, \"error\", \"-\" * 20, f\"\\n {np.linalg.norm(A - A_tildle)}\\n\", \"-\" * 40, \"\\n\")"
      ]
    },
    {
      "cell_type": "code",
      "execution_count": null,
      "metadata": {
        "id": "wwYjVXsQd_6N",
        "outputId": "7c054786-9cc1-4264-8aed-95e6c2a1cbb5",
        "colab": {
          "base_uri": "https://localhost:8080/"
        }
      },
      "outputs": [
        {
          "output_type": "stream",
          "name": "stdout",
          "text": [
            "-------------------- k -------------------- \n",
            " 4\n",
            " ---------------------------------------- \n",
            "\n",
            "-------------------- A -------------------- \n",
            " [[1 1 1 0 1]\n",
            " [3 4 5 1 0]\n",
            " [4 4 4 0 1]\n",
            " [4 5 4 1 1]\n",
            " [4 6 4 0 1]\n",
            " [4 7 4 1 1]\n",
            " [4 8 4 0 1]\n",
            " [4 9 4 1 0]]\n",
            " ---------------------------------------- \n",
            "\n",
            "-------------------- A_tildle -------------------- \n",
            " [[ 1.25922885e+00  9.51492408e-01  8.70593425e-01 -1.36648969e-02\n",
            "   7.86705318e-01]\n",
            " [ 3.15132143e+00  3.97168433e+00  4.92446062e+00  9.92023296e-01\n",
            "  -1.24507961e-01]\n",
            " [ 3.78008551e+00  4.04115099e+00  4.10978092e+00  1.15924939e-02\n",
            "   1.18094665e+00]\n",
            " [ 3.90220176e+00  5.01830027e+00  4.04882070e+00  1.00515530e+00\n",
            "   1.08046884e+00]\n",
            " [ 3.97063813e+00  6.00549427e+00  4.01465739e+00  1.54777096e-03\n",
            "   1.02415908e+00]\n",
            " [ 4.09275439e+00  6.98264355e+00  3.95369718e+00  9.95110578e-01\n",
            "   9.23681266e-01]\n",
            " [ 4.16119076e+00  7.96983756e+00  3.91953386e+00 -8.49695197e-03\n",
            "   8.67371508e-01]\n",
            " [ 3.86436371e+00  9.02538062e+00  4.06770939e+00  1.00714988e+00\n",
            "   1.11602155e-01]]\n",
            " ---------------------------------------- \n",
            "\n",
            "-------------------- A_tildle_rank -------------------- \n",
            " 4\n",
            " ---------------------------------------- \n",
            "\n",
            "-------------------- error -------------------- \n",
            " 0.6296604396728651\n",
            " ---------------------------------------- \n",
            "\n"
          ]
        }
      ],
      "source": [
        "#type your code here:\n",
        "k = 4\n",
        "print(\"-\"* 20, \"k\", \"-\" * 20, f\"\\n {k}\\n\", \"-\" * 40, \"\\n\")\n",
        "print(\"-\"* 20, \"A\", \"-\" * 20, f\"\\n {A}\\n\", \"-\" * 40, \"\\n\")\n",
        "A_tildle = U[:, :k] @ S[:k, :k] @ VT[:k, :]\n",
        "print(\"-\"* 20, \"A_tildle\", \"-\" * 20, f\"\\n {A_tildle}\\n\", \"-\" * 40, \"\\n\")\n",
        "print(\"-\"* 20, \"A_tildle_rank\", \"-\" * 20, f\"\\n {np.linalg.matrix_rank(A_tildle)}\\n\", \"-\" * 40, \"\\n\")\n",
        "print(\"-\"* 20, \"error\", \"-\" * 20, f\"\\n {np.linalg.norm(A - A_tildle)}\\n\", \"-\" * 40, \"\\n\")"
      ]
    },
    {
      "cell_type": "code",
      "execution_count": null,
      "metadata": {
        "id": "gFnKgBtBd_6O",
        "outputId": "949fa213-ccca-40cd-e03b-040771887b34",
        "colab": {
          "base_uri": "https://localhost:8080/"
        }
      },
      "outputs": [
        {
          "output_type": "stream",
          "name": "stdout",
          "text": [
            "-------------------- k -------------------- \n",
            " 3\n",
            " ---------------------------------------- \n",
            "\n",
            "-------------------- A -------------------- \n",
            " [[1 1 1 0 1]\n",
            " [3 4 5 1 0]\n",
            " [4 4 4 0 1]\n",
            " [4 5 4 1 1]\n",
            " [4 6 4 0 1]\n",
            " [4 7 4 1 1]\n",
            " [4 8 4 0 1]\n",
            " [4 9 4 1 0]]\n",
            " ---------------------------------------- \n",
            "\n",
            "-------------------- A_tildle -------------------- \n",
            " [[ 1.21384154  0.96160619  0.94039684 -0.20890102  0.69940153]\n",
            " [ 3.20126712  3.96055479  4.84764664  1.20686756 -0.02843599]\n",
            " [ 3.82378874  4.03141247  4.04256754  0.19958445  1.26501107]\n",
            " [ 3.78669365  5.04403927  4.2264664   0.50829052  0.85828566]\n",
            " [ 4.03173774  5.99187927  3.92068925  0.26437126  1.14168593]\n",
            " [ 3.99464265  7.00450607  4.10458811  0.57307732  0.73496053]\n",
            " [ 4.23968675  7.95234607  3.79881096  0.32915806  1.0183608 ]\n",
            " [ 3.85873252  9.02663544  4.07636989  0.98292697  0.10077039]]\n",
            " ---------------------------------------- \n",
            "\n",
            "-------------------- A_tildle_rank -------------------- \n",
            " 3\n",
            " ---------------------------------------- \n",
            "\n",
            "-------------------- error -------------------- \n",
            " 1.1852363429368316\n",
            " ---------------------------------------- \n",
            "\n"
          ]
        }
      ],
      "source": [
        "#type your code here:\n",
        "k = 3\n",
        "print(\"-\"* 20, \"k\", \"-\" * 20, f\"\\n {k}\\n\", \"-\" * 40, \"\\n\")\n",
        "print(\"-\"* 20, \"A\", \"-\" * 20, f\"\\n {A}\\n\", \"-\" * 40, \"\\n\")\n",
        "A_tildle = U[:, :k] @ S[:k, :k] @ VT[:k, :]\n",
        "print(\"-\"* 20, \"A_tildle\", \"-\" * 20, f\"\\n {A_tildle}\\n\", \"-\" * 40, \"\\n\")\n",
        "print(\"-\"* 20, \"A_tildle_rank\", \"-\" * 20, f\"\\n {np.linalg.matrix_rank(A_tildle)}\\n\", \"-\" * 40, \"\\n\")\n",
        "print(\"-\"* 20, \"error\", \"-\" * 20, f\"\\n {np.linalg.norm(A - A_tildle)}\\n\", \"-\" * 40, \"\\n\")"
      ]
    },
    {
      "cell_type": "code",
      "execution_count": null,
      "metadata": {
        "id": "VTxZ1ktcd_6O",
        "outputId": "aec42928-9ca1-4667-ffbf-f8a0cf5ab55d",
        "colab": {
          "base_uri": "https://localhost:8080/"
        }
      },
      "outputs": [
        {
          "output_type": "stream",
          "name": "stdout",
          "text": [
            "-------------------- k -------------------- \n",
            " 2\n",
            " ---------------------------------------- \n",
            "\n",
            "-------------------- A -------------------- \n",
            " [[1 1 1 0 1]\n",
            " [3 4 5 1 0]\n",
            " [4 4 4 0 1]\n",
            " [4 5 4 1 1]\n",
            " [4 6 4 0 1]\n",
            " [4 7 4 1 1]\n",
            " [4 8 4 0 1]\n",
            " [4 9 4 1 0]]\n",
            " ---------------------------------------- \n",
            "\n",
            "-------------------- A_tildle -------------------- \n",
            " [[0.97120303 0.97817264 1.17745474 0.14101019 0.2345008 ]\n",
            " [3.66822055 3.92867295 4.39143298 0.53346975 0.86625708]\n",
            " [3.59876756 4.04677607 4.2624133  0.52408954 0.83386553]\n",
            " [3.75757173 5.04602761 4.25491852 0.55028749 0.80248744]\n",
            " [3.82442764 6.00603363 4.12323129 0.56333505 0.7444752 ]\n",
            " [3.98323181 7.00528516 4.11573651 0.589533   0.71309711]\n",
            " [4.05008771 7.96529118 3.98404928 0.60258057 0.65508487]\n",
            " [4.1135437  9.00923788 3.82741928 0.61546144 0.58899422]]\n",
            " ---------------------------------------- \n",
            "\n",
            "-------------------- A_tildle_rank -------------------- \n",
            " 2\n",
            " ---------------------------------------- \n",
            "\n",
            "-------------------- error -------------------- \n",
            " 2.2465272268175456\n",
            " ---------------------------------------- \n",
            "\n"
          ]
        }
      ],
      "source": [
        "#type your code here:\n",
        "k = 2\n",
        "print(\"-\"* 20, \"k\", \"-\" * 20, f\"\\n {k}\\n\", \"-\" * 40, \"\\n\")\n",
        "print(\"-\"* 20, \"A\", \"-\" * 20, f\"\\n {A}\\n\", \"-\" * 40, \"\\n\")\n",
        "A_tildle = U[:, :k] @ S[:k, :k] @ VT[:k, :]\n",
        "print(\"-\"* 20, \"A_tildle\", \"-\" * 20, f\"\\n {A_tildle}\\n\", \"-\" * 40, \"\\n\")\n",
        "print(\"-\"* 20, \"A_tildle_rank\", \"-\" * 20, f\"\\n {np.linalg.matrix_rank(A_tildle)}\\n\", \"-\" * 40, \"\\n\")\n",
        "print(\"-\"* 20, \"error\", \"-\" * 20, f\"\\n {np.linalg.norm(A - A_tildle)}\\n\", \"-\" * 40, \"\\n\")"
      ]
    },
    {
      "cell_type": "code",
      "execution_count": null,
      "metadata": {
        "id": "shgSFHlGd_6O",
        "outputId": "f8610ddc-14c8-4d59-e677-c425351e6af9",
        "colab": {
          "base_uri": "https://localhost:8080/"
        }
      },
      "outputs": [
        {
          "output_type": "stream",
          "name": "stdout",
          "text": [
            "-------------------- k -------------------- \n",
            " 1\n",
            " ---------------------------------------- \n",
            "\n",
            "-------------------- A -------------------- \n",
            " [[1 1 1 0 1]\n",
            " [3 4 5 1 0]\n",
            " [4 4 4 0 1]\n",
            " [4 5 4 1 1]\n",
            " [4 6 4 0 1]\n",
            " [4 7 4 1 1]\n",
            " [4 8 4 0 1]\n",
            " [4 9 4 1 0]]\n",
            " ---------------------------------------- \n",
            "\n",
            "-------------------- A_tildle -------------------- \n",
            " [[0.79493186 1.31209448 0.84185871 0.1173312  0.14945219]\n",
            " [3.06849251 5.06477638 3.24963343 0.45290665 0.57689591]\n",
            " [3.06469381 5.05850635 3.24561049 0.45234596 0.57618173]\n",
            " [3.43143763 5.66384444 3.63400412 0.50647701 0.64513187]\n",
            " [3.73797475 6.16980689 3.95863691 0.5517216  0.70276278]\n",
            " [4.10471857 6.77514498 4.34703055 0.60585265 0.77171293]\n",
            " [4.41125569 7.28110744 4.67166334 0.65109724 0.82934383]\n",
            " [4.73965497 7.823155   5.01944886 0.69956867 0.89108496]]\n",
            " ---------------------------------------- \n",
            "\n",
            "-------------------- A_tildle_rank -------------------- \n",
            " 1\n",
            " ---------------------------------------- \n",
            "\n",
            "-------------------- error -------------------- \n",
            " 4.034736338985961\n",
            " ---------------------------------------- \n",
            "\n"
          ]
        }
      ],
      "source": [
        "#type your code here:\n",
        "k = 1\n",
        "print(\"-\"* 20, \"k\", \"-\" * 20, f\"\\n {k}\\n\", \"-\" * 40, \"\\n\")\n",
        "print(\"-\"* 20, \"A\", \"-\" * 20, f\"\\n {A}\\n\", \"-\" * 40, \"\\n\")\n",
        "A_tildle = U[:, :k] @ S[:k, :k] @ VT[:k, :]\n",
        "print(\"-\"* 20, \"A_tildle\", \"-\" * 20, f\"\\n {A_tildle}\\n\", \"-\" * 40, \"\\n\")\n",
        "print(\"-\"* 20, \"A_tildle_rank\", \"-\" * 20, f\"\\n {np.linalg.matrix_rank(A_tildle)}\\n\", \"-\" * 40, \"\\n\")\n",
        "print(\"-\"* 20, \"error\", \"-\" * 20, f\"\\n {np.linalg.norm(A - A_tildle)}\\n\", \"-\" * 40, \"\\n\")"
      ]
    },
    {
      "cell_type": "code",
      "source": [],
      "metadata": {
        "id": "byIL2AlsCFl3"
      },
      "execution_count": null,
      "outputs": []
    }
  ],
  "metadata": {
    "kernelspec": {
      "display_name": "Python 3 (ipykernel)",
      "language": "python",
      "name": "python3"
    },
    "language_info": {
      "codemirror_mode": {
        "name": "ipython",
        "version": 3
      },
      "file_extension": ".py",
      "mimetype": "text/x-python",
      "name": "python",
      "nbconvert_exporter": "python",
      "pygments_lexer": "ipython3",
      "version": "3.8.5"
    },
    "colab": {
      "provenance": []
    }
  },
  "nbformat": 4,
  "nbformat_minor": 0
}