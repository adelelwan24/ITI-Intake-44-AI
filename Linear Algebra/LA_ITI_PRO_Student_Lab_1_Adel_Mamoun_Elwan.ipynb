{
  "cells": [
    {
      "cell_type": "markdown",
      "metadata": {
        "id": "92HBU9T5rXx1"
      },
      "source": [
        "# LAB 1: Matrix and Vector Computations in python\n",
        "In this lab you will use python to study the following topics:\n",
        "\n",
        "- How to create matrices and vectors in python.\n",
        "\n",
        "- How to manipulate matrices in python and create matrices of special types.\n",
        "\n",
        "- How to add matrices and multiply a vector by a matrix by python.\n",
        "\n",
        "- Solving System of Linear Equations Using Gaussian Elimination.\n",
        "\n",
        "- Matrix Multiplication using Different views."
      ]
    },
    {
      "cell_type": "markdown",
      "metadata": {
        "id": "eOUl2K4wrXyA"
      },
      "source": [
        "# First: you should run this cell"
      ]
    },
    {
      "cell_type": "code",
      "execution_count": null,
      "metadata": {
        "id": "ioY9VXhyrXyB"
      },
      "outputs": [],
      "source": [
        "# Make all numpy available via shorter 'np' prefix\n",
        "import numpy as np\n",
        "\n",
        "import sympy as sym"
      ]
    },
    {
      "cell_type": "markdown",
      "metadata": {
        "id": "LUGboGBZrXyD"
      },
      "source": [
        "# Question 1 :Declaring scalars, vectors, and matrices\n",
        "\n",
        "a) Use [numpy.array](https://numpy.org/doc/stable/reference/generated/numpy.array.html) to declare the following:\n",
        "\n",
        "1. A scalar $s = 5$\n",
        "2. A vector $v = \\begin{bmatrix} 5  \\\\ -2 \\\\ 4  \\\\ \\end{bmatrix}$\n",
        "3. A matrix $A = \\begin{bmatrix} 1 & 2 & 3  \\\\ 4 & 5 & 6 \\\\ 7 & 8 & 9  \\\\ \\end{bmatrix}$\n",
        "4. A matrix $B = \\begin{bmatrix} 1 & 2 & 3  \\\\ 4 & 5 & 6 \\\\ \\end{bmatrix}$\n",
        "5. A matrix $C = \\begin{bmatrix} 1 & 2   \\\\ 3 & 4  \\\\ 5 & 6   \\\\ \\end{bmatrix}$"
      ]
    },
    {
      "cell_type": "code",
      "source": [
        "s = np.array(5)\n",
        "v = np.array([[5], [-2], [4]])\n",
        "a = np.array([[1,2,4], [4,5,6], [7,8,9]])\n",
        "b = np.array([[1,2,3], [4,5,6]])\n",
        "c = np.array([[1,2], [3,4],[5,6]])\n",
        "print(f\"s = {s}\\n\\nv = \\n {v}\\n\\na = \\n {a}\\n\\nb = \\n {b}\\n\\nc = \\n {c}\\n\")"
      ],
      "metadata": {
        "colab": {
          "base_uri": "https://localhost:8080/"
        },
        "id": "bulxXqC0sGgU",
        "outputId": "88076865-e21e-40c9-bd69-1828eed4fa70"
      },
      "execution_count": null,
      "outputs": [
        {
          "output_type": "stream",
          "name": "stdout",
          "text": [
            "s = 5\n",
            "\n",
            "v = \n",
            " [[ 5]\n",
            " [-2]\n",
            " [ 4]]\n",
            "\n",
            "a = \n",
            " [[1 2 4]\n",
            " [4 5 6]\n",
            " [7 8 9]]\n",
            "\n",
            "b = \n",
            " [[1 2 3]\n",
            " [4 5 6]]\n",
            "\n",
            "c = \n",
            " [[1 2]\n",
            " [3 4]\n",
            " [5 6]]\n",
            "\n"
          ]
        }
      ]
    },
    {
      "cell_type": "code",
      "execution_count": null,
      "metadata": {
        "id": "sPBJM7BJrXyD",
        "outputId": "74f2b67b-b51a-45b9-ce6a-a0a4d1aa55d5"
      },
      "outputs": [
        {
          "name": "stdout",
          "output_type": "stream",
          "text": [
            "s = 5\n",
            "\n",
            "v =\n",
            " [[ 5]\n",
            " [-2]\n",
            " [ 4]]\n",
            "\n",
            "A =\n",
            " [[1 2 3]\n",
            " [4 5 6]\n",
            " [7 8 9]]\n",
            "\n",
            "B =\n",
            " [[1 2 3]\n",
            " [4 5 6]]\n",
            "\n",
            "C =\n",
            " [[1 2]\n",
            " [3 4]\n",
            " [5 6]]\n",
            "\n"
          ]
        }
      ],
      "source": [
        "#type your code here:\n"
      ]
    },
    {
      "cell_type": "markdown",
      "metadata": {
        "id": "HEAav9GSrXyF"
      },
      "source": [
        "b) Print the data type of $s, v,$ and $A$ using `type` command in python."
      ]
    },
    {
      "cell_type": "code",
      "execution_count": null,
      "metadata": {
        "id": "95Z5z_C6rXyF",
        "outputId": "098633de-b760-46bc-a5d2-f226a3d074f7",
        "colab": {
          "base_uri": "https://localhost:8080/"
        }
      },
      "outputs": [
        {
          "output_type": "stream",
          "name": "stdout",
          "text": [
            "type(s) = <class 'numpy.ndarray'>\n",
            "\n",
            "type(v) = <class 'numpy.ndarray'>\n",
            "\n",
            "type(a) = <class 'numpy.ndarray'>\n",
            "\n"
          ]
        }
      ],
      "source": [
        "#type your code here:\n",
        "print(f\"type(s) = {type(s)}\\n\")\n",
        "print(f\"type(v) = {type(v)}\\n\")\n",
        "print(f\"type(a) = {type(a)}\\n\")"
      ]
    },
    {
      "cell_type": "code",
      "execution_count": null,
      "metadata": {
        "id": "VUx5HtsXt5MC",
        "outputId": "7f97b3fc-ade2-4545-d472-747fca7424b4"
      },
      "outputs": [
        {
          "name": "stdout",
          "output_type": "stream",
          "text": [
            "type(s) = <class 'numpy.ndarray'>\n",
            "\n",
            "type(v) = <class 'numpy.ndarray'>\n",
            "\n",
            "type(A) = <class 'numpy.ndarray'>\n",
            "\n"
          ]
        }
      ],
      "source": [
        "#type your code here:\n"
      ]
    },
    {
      "cell_type": "markdown",
      "metadata": {
        "id": "0bBtLYiXrXyH"
      },
      "source": [
        "c) Using [numpy.shape](https://numpy.org/devdocs/reference/generated/numpy.shape.html) or `A.shape` print the shape of $s, v, A, B,$ and $C$."
      ]
    },
    {
      "cell_type": "code",
      "execution_count": null,
      "metadata": {
        "outputId": "30addf61-fb2e-4999-b613-77c4cba9f2df",
        "colab": {
          "base_uri": "https://localhost:8080/"
        },
        "id": "TJbcg0pAxuVB"
      },
      "outputs": [
        {
          "output_type": "stream",
          "name": "stdout",
          "text": [
            "s.shape = ()\n",
            "\n",
            "v.shape = (3, 1)\n",
            "\n",
            "a.shape = (3, 3)\n",
            "\n",
            "b.shape = (2, 3)\n",
            "\n",
            "c.shape = (3, 2)\n",
            "\n"
          ]
        }
      ],
      "source": [
        "#type your code here:\n",
        "print(f\"s.shape = {s.shape}\\n\")\n",
        "print(f\"v.shape = {v.shape}\\n\")\n",
        "print(f\"a.shape = {a.shape}\\n\")\n",
        "print(f\"b.shape = {b.shape}\\n\")\n",
        "print(f\"c.shape = {c.shape}\\n\")"
      ]
    },
    {
      "cell_type": "code",
      "execution_count": null,
      "metadata": {
        "id": "8mWyRsKKrXyI",
        "outputId": "78607d75-06a5-482d-de0a-4c95efd671e0"
      },
      "outputs": [
        {
          "name": "stdout",
          "output_type": "stream",
          "text": [
            "s.shape = ()\n",
            "\n",
            "v.shape = (3, 1)\n",
            "\n",
            "A.shape = (3, 3)\n",
            "\n",
            "B.shape = (2, 3)\n",
            "\n",
            "C.shape = (3, 2)\n",
            "\n"
          ]
        }
      ],
      "source": [
        "#type your code here:\n"
      ]
    },
    {
      "cell_type": "markdown",
      "metadata": {
        "id": "S-Z0eQuerXyJ"
      },
      "source": [
        "d) To access a given entry in the `numpy array` put the `row number - 1` and `column number - 1` in square brackets following the array name. Ex `a32 = A[2, 1]`.\n",
        "- Print the value of the third row and the second column of the matrix $A$.\n",
        "- Change it to $10$.\n",
        "- Print the matrix A to check the entry is changed."
      ]
    },
    {
      "cell_type": "code",
      "source": [
        "print(f\"A[2, 1] = {a[2, 1]}\")\n",
        "a[2, 1] = 10\n",
        "print(f\"A = \\n {a}\")"
      ],
      "metadata": {
        "colab": {
          "base_uri": "https://localhost:8080/"
        },
        "id": "Ste9ss3-yFC1",
        "outputId": "195aa81f-dcb8-4559-ec7f-3760839cb303"
      },
      "execution_count": null,
      "outputs": [
        {
          "output_type": "stream",
          "name": "stdout",
          "text": [
            "A[2, 1] = 8\n",
            "A = \n",
            " [[ 1  2  4]\n",
            " [ 4  5  6]\n",
            " [ 7 10  9]]\n"
          ]
        }
      ]
    },
    {
      "cell_type": "code",
      "execution_count": null,
      "metadata": {
        "id": "L9ByadCvrXyJ",
        "outputId": "7b1a1781-99c4-476c-bab5-4168689aef87"
      },
      "outputs": [
        {
          "name": "stdout",
          "output_type": "stream",
          "text": [
            "A[2, 1] =  8\n",
            "\n",
            "A =\n",
            " [[ 1  2  3]\n",
            " [ 4  5  6]\n",
            " [ 7 10  9]]\n",
            "\n"
          ]
        }
      ],
      "source": [
        "#type your code here:\n"
      ]
    },
    {
      "cell_type": "markdown",
      "metadata": {
        "id": "yAdc8N8BrXyL"
      },
      "source": [
        "e)To access a whole row or column of a matrix, use the colon operator. For example, `A[:, [1]]` is the second column of A, while `B[[1], :]` is the second row of B."
      ]
    },
    {
      "cell_type": "code",
      "source": [
        "print(f\"A[:, [1]] = \\n {a[:, [1]]}\\n\")\n",
        "print(f\"B[:, [1]] = \\n {b[[1], :]}\\n\")"
      ],
      "metadata": {
        "colab": {
          "base_uri": "https://localhost:8080/"
        },
        "id": "Psaa9FeUB9Fh",
        "outputId": "ad67074f-b7ba-4bb6-9b71-736280675e6d"
      },
      "execution_count": null,
      "outputs": [
        {
          "output_type": "stream",
          "name": "stdout",
          "text": [
            "A[:, [1]] = \n",
            " [[ 2]\n",
            " [ 5]\n",
            " [10]]\n",
            "\n",
            "B[:, [1]] = \n",
            " [[4 5 6]]\n",
            "\n"
          ]
        }
      ]
    },
    {
      "cell_type": "code",
      "execution_count": null,
      "metadata": {
        "id": "Q00L0kaPrXyM",
        "outputId": "476b32ff-1e84-4598-b796-859f3f732be6"
      },
      "outputs": [
        {
          "name": "stdout",
          "output_type": "stream",
          "text": [
            "A[:, [1]] =\n",
            " [[ 2]\n",
            " [ 5]\n",
            " [10]]\n",
            "\n",
            "B[[1], :] =\n",
            " [[4 5 6]]\n",
            "\n"
          ]
        }
      ],
      "source": [
        "#type your code here:\n"
      ]
    },
    {
      "cell_type": "markdown",
      "metadata": {
        "id": "2dA02syTrXyM"
      },
      "source": [
        "f) Type each of the following commands that generate special matrices:\n",
        "- `np.eye(4), np.zeros(3), np.zeros((3, 1)), np.zeros((3, 5)), np.ones((2, 3)), and np.diag([4, 5, 6, 7])`"
      ]
    },
    {
      "cell_type": "code",
      "execution_count": null,
      "metadata": {
        "id": "sjKKbeOn-2zY",
        "outputId": "ab875dae-f770-4c53-e46c-2963c87c6874"
      },
      "outputs": [
        {
          "name": "stdout",
          "output_type": "stream",
          "text": [
            "np.eye(4) =\n",
            " [[1. 0. 0. 0.]\n",
            " [0. 1. 0. 0.]\n",
            " [0. 0. 1. 0.]\n",
            " [0. 0. 0. 1.]]\n",
            "\n",
            "np.zeros(3) =\n",
            " [0. 0. 0.]\n",
            "\n",
            "np.zeros(3, 1) =\n",
            " [[0.]\n",
            " [0.]\n",
            " [0.]]\n",
            "\n",
            "np.zeros(3, 5) =\n",
            " [[0. 0. 0. 0. 0.]\n",
            " [0. 0. 0. 0. 0.]\n",
            " [0. 0. 0. 0. 0.]]\n",
            "\n",
            "np.ones(2, 3) =\n",
            " [[1. 1. 1.]\n",
            " [1. 1. 1.]]\n",
            "\n",
            "np.diag([4 5 6 7]) =\n",
            " [[4 0 0 0]\n",
            " [0 5 0 0]\n",
            " [0 0 6 0]\n",
            " [0 0 0 7]]\n"
          ]
        }
      ],
      "source": [
        "#type your code here:\n"
      ]
    },
    {
      "cell_type": "code",
      "execution_count": null,
      "metadata": {
        "id": "9Sz0a-rWrXyM",
        "outputId": "4ba300c5-cecf-4fad-9501-26f813f6797d",
        "colab": {
          "base_uri": "https://localhost:8080/"
        }
      },
      "outputs": [
        {
          "output_type": "stream",
          "name": "stdout",
          "text": [
            "np.eye(4) = \n",
            " [[1. 0. 0. 0.]\n",
            " [0. 1. 0. 0.]\n",
            " [0. 0. 1. 0.]\n",
            " [0. 0. 0. 1.]]\n",
            "\n",
            "np.zeros(3) = \n",
            " [0. 0. 0.]\n",
            "\n",
            "np.zeros((3,5)) = \n",
            " [[0. 0. 0. 0. 0.]\n",
            " [0. 0. 0. 0. 0.]\n",
            " [0. 0. 0. 0. 0.]]\n",
            "\n",
            "np.ones((2, 3)) = \n",
            " [[1. 1. 1.]\n",
            " [1. 1. 1.]]\n",
            "\n",
            "np.diag([4, 5, 6, 7]) = \n",
            " [[4 0 0 0]\n",
            " [0 5 0 0]\n",
            " [0 0 6 0]\n",
            " [0 0 0 7]]\n",
            "\n"
          ]
        }
      ],
      "source": [
        "#type your code here:\n",
        "print(f\"np.eye(4) = \\n {np.eye(4)}\\n\")\n",
        "print(f\"np.zeros(3) = \\n {np.zeros(3)}\\n\")\n",
        "print(f\"np.zeros((3,5)) = \\n {np.zeros((3, 5))}\\n\")\n",
        "print(f\"np.ones((2, 3)) = \\n {np.ones((2, 3))}\\n\")\n",
        "print(f\"np.diag([4, 5, 6, 7]) = \\n {np.diag([4, 5, 6, 7])}\\n\")\n"
      ]
    },
    {
      "cell_type": "markdown",
      "metadata": {
        "id": "4veIElQcrXyN"
      },
      "source": [
        "# Question 2. Vectors Addition, Scaling, and dot product"
      ]
    },
    {
      "cell_type": "markdown",
      "metadata": {
        "id": "mAVXUuEKrXyN"
      },
      "source": [
        "a) Declare vectors $v1 = \\begin{bmatrix} 1  \\\\ 2 \\\\ 7  \\\\ 4 \\\\ \\end{bmatrix}$ and $v2 = \\begin{bmatrix} 4  \\\\ 3 \\\\ 6  \\\\ 8 \\\\ \\end{bmatrix}$\n",
        "\n",
        "- Addition: $v1 + v2$\n",
        "- Subtraction: $v1 - v2$\n",
        "- Scaling by a number: $3 * v1$\n",
        "- Scaling by a number: $v1 / 2$"
      ]
    },
    {
      "cell_type": "code",
      "source": [
        "v1 = np.array([[1], [2], [7], [4]])\n",
        "v2 = np.array([[4], [3], [6], [8]])\n",
        "print(f\"v1 = \\n {v1}\\n\")\n",
        "print(f\"v2 = \\n {v2}\\n\")\n",
        "print(f\"v1 + v2 = \\n {v1 + v2}\\n\")\n",
        "print(f\"v1 - v2 = \\n {v1 - v2}\\n\")\n",
        "print(f\"3 * v1 = \\n {3*v1}\\n\")\n",
        "print(f\"v1 / 2 = \\n {v1 / 2}\\n\")"
      ],
      "metadata": {
        "colab": {
          "base_uri": "https://localhost:8080/"
        },
        "id": "_1YFjS3_FE0d",
        "outputId": "f61ef832-530e-4844-d855-0bac72cd9ad3"
      },
      "execution_count": null,
      "outputs": [
        {
          "output_type": "stream",
          "name": "stdout",
          "text": [
            "v1 = \n",
            " [[1]\n",
            " [2]\n",
            " [7]\n",
            " [4]]\n",
            "\n",
            "v2 = \n",
            " [[4]\n",
            " [3]\n",
            " [6]\n",
            " [8]]\n",
            "\n",
            "v1 + v2 = \n",
            " [[ 5]\n",
            " [ 5]\n",
            " [13]\n",
            " [12]]\n",
            "\n",
            "v1 - v2 = \n",
            " [[-3]\n",
            " [-1]\n",
            " [ 1]\n",
            " [-4]]\n",
            "\n",
            "3 * v1 = \n",
            " [[ 3]\n",
            " [ 6]\n",
            " [21]\n",
            " [12]]\n",
            "\n",
            "v1 / 2 = \n",
            " [[0.5]\n",
            " [1. ]\n",
            " [3.5]\n",
            " [2. ]]\n",
            "\n"
          ]
        }
      ]
    },
    {
      "cell_type": "code",
      "execution_count": null,
      "metadata": {
        "id": "-ofGYg3TrXyN",
        "outputId": "adc73e7b-78ea-4f10-8385-91bb999782c0"
      },
      "outputs": [
        {
          "name": "stdout",
          "output_type": "stream",
          "text": [
            "v1 =\n",
            " [[1]\n",
            " [2]\n",
            " [7]\n",
            " [4]]\n",
            "\n",
            "v2 =\n",
            " [[4]\n",
            " [3]\n",
            " [6]\n",
            " [8]]\n",
            "\n",
            "v1 + v2 =\n",
            " [[ 5]\n",
            " [ 5]\n",
            " [13]\n",
            " [12]]\n",
            "\n",
            "v1 - v2 =\n",
            " [[-3]\n",
            " [-1]\n",
            " [ 1]\n",
            " [-4]]\n",
            "\n",
            "3*v1 =\n",
            " [[ 3]\n",
            " [ 6]\n",
            " [21]\n",
            " [12]]\n",
            "\n",
            "v1/2 =\n",
            " [[0.5]\n",
            " [1. ]\n",
            " [3.5]\n",
            " [2. ]]\n",
            "\n"
          ]
        }
      ],
      "source": [
        "#type your code here:\n"
      ]
    },
    {
      "cell_type": "markdown",
      "metadata": {
        "id": "_WLS-y02rXyO"
      },
      "source": [
        "b) Find the dot product between the two vectors $v1$ and $v2$ using the following:\n",
        "\n",
        "- [numpy.dot](https://numpy.org/doc/stable/reference/generated/numpy.dot.html)\n",
        "- [numpy.matmul](https://numpy.org/doc/stable/reference/generated/numpy.matmul.html#numpy.matmul)\n",
        "- `v1.T @ v2`"
      ]
    },
    {
      "cell_type": "code",
      "source": [
        "print(f\"Using numpy.dot = \\n {np.dot(v1.T, v2)}\\n\")\n",
        "print(f\"Using numpy.matmul = \\n {np.matmul(v1.T, v2)}\\n\")\n",
        "print(f\"Using @ = \\n {v1.T @ (v2)}\\n\")"
      ],
      "metadata": {
        "colab": {
          "base_uri": "https://localhost:8080/"
        },
        "id": "mfWe5jPxF-MK",
        "outputId": "b2871b43-7364-4e0a-b5dd-cc19c8cda776"
      },
      "execution_count": null,
      "outputs": [
        {
          "output_type": "stream",
          "name": "stdout",
          "text": [
            "Using numpy.dot = \n",
            " [[84]]\n",
            "\n",
            "Using numpy.matmul = \n",
            " [[84]]\n",
            "\n",
            "Using @ = \n",
            " [[84]]\n",
            "\n"
          ]
        }
      ]
    },
    {
      "cell_type": "code",
      "execution_count": null,
      "metadata": {
        "id": "vH4CcYSHrXyO",
        "outputId": "cb4e0a77-2952-4295-ae81-fce3898e8544"
      },
      "outputs": [
        {
          "name": "stdout",
          "output_type": "stream",
          "text": [
            "Using numpy.dot =\n",
            " [[84]]\n",
            "\n",
            "Using numpy.matmul =\n",
            " [[84]]\n",
            "\n",
            "Using @ =\n",
            " [[84]]\n",
            "\n"
          ]
        }
      ],
      "source": [
        "#type your code here:\n"
      ]
    },
    {
      "cell_type": "markdown",
      "metadata": {
        "id": "nxJ5C-RorXyP"
      },
      "source": [
        "c) Find the length of the vectors $v1$ and $v2$.\n",
        "- Using [numpy.linalg.norm](https://numpy.org/doc/stable/reference/generated/numpy.linalg.norm.html)\n",
        "- Using the dot product and [numpy.sqrt](https://numpy.org/doc/stable/reference/generated/numpy.sqrt.html)\n"
      ]
    },
    {
      "cell_type": "code",
      "source": [
        "print(f\"length of v1 Using numpy.linalg.norm = \\n {np.linalg.norm(v1)}\\n\")\n",
        "print(f\"length of v2 Using numpy.linalg.norm = \\n {np.linalg.norm(v2)}\\n\")\n",
        "print(f\"length of v1 Using the dot product and numpy.sqrt = \\n {np.sqrt(np.dot(v1.T, v1))}\\n\")\n",
        "print(f\"length of v2 Using the dot product and numpy.sqrt = \\n {np.sqrt(np.dot(v2.T, v2))}\\n\")"
      ],
      "metadata": {
        "colab": {
          "base_uri": "https://localhost:8080/"
        },
        "id": "aBI6HXFsHniJ",
        "outputId": "4f59a251-bafc-43ad-985b-2d773edef498"
      },
      "execution_count": null,
      "outputs": [
        {
          "output_type": "stream",
          "name": "stdout",
          "text": [
            "length of v1 Using numpy.linalg.norm = \n",
            " 8.366600265340756\n",
            "\n",
            "length of v2 Using numpy.linalg.norm = \n",
            " 11.180339887498949\n",
            "\n",
            "length of v1 Using the dot product and numpy.sqrt = \n",
            " [[8.36660027]]\n",
            "\n",
            "length of v2 Using the dot product and numpy.sqrt = \n",
            " [[11.18033989]]\n",
            "\n"
          ]
        }
      ]
    },
    {
      "cell_type": "code",
      "execution_count": null,
      "metadata": {
        "id": "WWc96q4SrXyP",
        "outputId": "4ba27379-76af-4356-fa61-436b187f7d74"
      },
      "outputs": [
        {
          "name": "stdout",
          "output_type": "stream",
          "text": [
            "length of v1 Using numpy.linalg.norm =\n",
            " 8.366600265340756\n",
            "\n",
            "length of v2 Using numpy.linalg.norm =\n",
            " 11.180339887498949\n",
            "\n",
            "length of v1 Using the dot product and numpy.sqrt =\n",
            " [[8.36660027]]\n",
            "\n",
            "length of v2 Using the dot product and numpy.sqrt =\n",
            " [[11.18033989]]\n",
            "\n"
          ]
        }
      ],
      "source": [
        "#type your code here:\n"
      ]
    },
    {
      "cell_type": "markdown",
      "metadata": {
        "id": "dz7DlrhtrXyQ"
      },
      "source": [
        "d) Show that the vectors $u = \\begin{bmatrix} 3  \\\\ 2 \\\\ -1  \\\\ 4 \\\\ \\end{bmatrix}$ and $v = \\begin{bmatrix} 1  \\\\ -1 \\\\ 1  \\\\ 0 \\\\ \\end{bmatrix}$ are orthogonal.\n"
      ]
    },
    {
      "cell_type": "code",
      "source": [
        "u = np.array([[3], [2], [-1], [4]])\n",
        "v = np.array([[1], [-1], [1], [0]])\n",
        "print(f\"u.T @ v = \\n {u.T @ v }\")"
      ],
      "metadata": {
        "colab": {
          "base_uri": "https://localhost:8080/"
        },
        "id": "AgOEF5pHIQFP",
        "outputId": "7457e990-34d9-488a-d262-feb6f00fe32a"
      },
      "execution_count": null,
      "outputs": [
        {
          "output_type": "stream",
          "name": "stdout",
          "text": [
            "u.T @ v = \n",
            " [[0]]\n"
          ]
        }
      ]
    },
    {
      "cell_type": "code",
      "execution_count": null,
      "metadata": {
        "id": "W0oVKUD_rXyQ",
        "outputId": "ef054aaf-21bd-4f1d-d567-5dd212121551"
      },
      "outputs": [
        {
          "name": "stdout",
          "output_type": "stream",
          "text": [
            "u.T @ v =\n",
            " [[0]]\n",
            "\n"
          ]
        }
      ],
      "source": [
        "#type your code here:\n"
      ]
    },
    {
      "cell_type": "markdown",
      "metadata": {
        "id": "Px7WvqU4rXyR"
      },
      "source": [
        "# Question 3. Matrix Addition and Matrix-Vector Multiplication\n",
        "\n",
        "Declare vectors $u$ and $v$ and matrices $A$ and $B$ as following:\n",
        "- $u = \\begin{bmatrix} 2  \\\\ 7 \\\\ 2 \\\\ \\end{bmatrix}$, $v = \\begin{bmatrix} 8  \\\\ 2 \\\\ 4 \\\\ \\end{bmatrix}$\n",
        "- $A = \\begin{bmatrix} 7 & 3 & 5  \\\\ 4 & 6 & 2 \\\\ \\end{bmatrix}$, $B = \\begin{bmatrix} 0 & 6 & 4  \\\\ 2 & 3 & 0 \\\\ \\end{bmatrix}$\n",
        "\n",
        "a) Calculate the following using python.\n",
        "\n",
        "- $A+B$\n",
        "- $B+A$\n",
        "- $3A$\n",
        "- $6B$\n",
        "- $2(3B)$\n",
        "- $6A+15B$\n",
        "- $3(2A+5B)$\n",
        "- $(3A^T)^T$"
      ]
    },
    {
      "cell_type": "code",
      "source": [
        "u = np.array([[2], [7], [2]])\n",
        "v = np.array([[8], [2], [4]])\n",
        "a = np.array([[7, 3, 5], [4, 6, 2]])\n",
        "b = np.array([[0, 6, 4], [2, 3, 0]])\n",
        "\n",
        "print(f\"u = \\n {u}\\n\")\n",
        "print(f\"v = \\n {v}\\n\")\n",
        "print(f\"v = \\n {v}\\n\")\n",
        "print(f\"A = \\n {a}\\n\")\n",
        "print(f\"B = \\n {b}\\n\")\n",
        "print(f\"A + B = \\n {a+b}\\n\")\n",
        "print(f\"B + A = \\n {b+a}\\n\")\n",
        "print(f\"3A = \\n {3 * a}\\n\")\n",
        "print(f\"6B = \\n {6 * b}\\n\")\n",
        "print(f\"2(3B) = \\n {2*(3 * b)}\\n\")\n",
        "print(f\"6A + 15B = \\n {6 * a + 15 * b}\\n\")\n",
        "print(f\"3(2A + 5B) = \\n {3 * ( 2 * a + 5 * b)}\\n\")\n",
        "print(f\"(3A^T)^T = \\n {(3 * a.T).T}\\n\")\n"
      ],
      "metadata": {
        "colab": {
          "base_uri": "https://localhost:8080/"
        },
        "id": "2VamBUPrKjga",
        "outputId": "ee5f1385-d99a-444e-fe55-36fc55366370"
      },
      "execution_count": null,
      "outputs": [
        {
          "output_type": "stream",
          "name": "stdout",
          "text": [
            "u = \n",
            " [[2]\n",
            " [7]\n",
            " [2]]\n",
            "\n",
            "v = \n",
            " [[8]\n",
            " [2]\n",
            " [4]]\n",
            "\n",
            "v = \n",
            " [[8]\n",
            " [2]\n",
            " [4]]\n",
            "\n",
            "A = \n",
            " [[7 3 5]\n",
            " [4 6 2]]\n",
            "\n",
            "B = \n",
            " [[0 6 4]\n",
            " [2 3 0]]\n",
            "\n",
            "A + B = \n",
            " [[7 9 9]\n",
            " [6 9 2]]\n",
            "\n",
            "B + A = \n",
            " [[7 9 9]\n",
            " [6 9 2]]\n",
            "\n",
            "3A = \n",
            " [[21  9 15]\n",
            " [12 18  6]]\n",
            "\n",
            "6B = \n",
            " [[ 0 36 24]\n",
            " [12 18  0]]\n",
            "\n",
            "2(3B) = \n",
            " [[ 0 36 24]\n",
            " [12 18  0]]\n",
            "\n",
            "6A + 15B = \n",
            " [[ 42 108  90]\n",
            " [ 54  81  12]]\n",
            "\n",
            "3(2A + 5B) = \n",
            " [[ 42 108  90]\n",
            " [ 54  81  12]]\n",
            "\n",
            "(3A^T)^T = \n",
            " [[21  9 15]\n",
            " [12 18  6]]\n",
            "\n"
          ]
        }
      ]
    },
    {
      "cell_type": "code",
      "execution_count": null,
      "metadata": {
        "id": "IhUhBfz9rXyR",
        "outputId": "668b9d0e-2c66-4c5d-ef29-dad80a2ea255"
      },
      "outputs": [
        {
          "name": "stdout",
          "output_type": "stream",
          "text": [
            "u =\n",
            " [[2]\n",
            " [7]\n",
            " [2]]\n",
            "\n",
            "v =\n",
            " [[8]\n",
            " [2]\n",
            " [4]]\n",
            "\n",
            "A =\n",
            " [[7 3 5]\n",
            " [4 6 2]]\n",
            "\n",
            "B =\n",
            " [[0 6 4]\n",
            " [2 3 0]]\n",
            "\n",
            "A + B =\n",
            " [[7 9 9]\n",
            " [6 9 2]]\n",
            "\n",
            "B + A =\n",
            " [[7 9 9]\n",
            " [6 9 2]]\n",
            "\n",
            "3A =\n",
            " [[21  9 15]\n",
            " [12 18  6]]\n",
            "\n",
            "6B =\n",
            " [[ 0 36 24]\n",
            " [12 18  0]]\n",
            "\n",
            "2(3B) =\n",
            " [[ 0 36 24]\n",
            " [12 18  0]]\n",
            "\n",
            "6A + 15B =\n",
            " [[ 42 108  90]\n",
            " [ 54  81  12]]\n",
            "\n",
            "3(2A + 5B) =\n",
            " [[ 42 108  90]\n",
            " [ 54  81  12]]\n",
            "\n",
            "\n",
            " (3A^T)^T = \n",
            " [[21  9 15]\n",
            " [12 18  6]]\n"
          ]
        }
      ],
      "source": [
        "#type your code here:\n"
      ]
    },
    {
      "cell_type": "markdown",
      "metadata": {
        "id": "RCevE2C2rXyR"
      },
      "source": [
        "b) To obtain the matrix-vector product $Au$ using python, type `A @ u`. Calculate the following:\n",
        "\n",
        "- $Au+Av$\n",
        "- $A(u+v)$\n",
        "- $(A+B)u$\n",
        "- $Au+Bu$\n",
        "- $A(3u)$\n",
        "- $3A(u)$"
      ]
    },
    {
      "cell_type": "code",
      "source": [
        "print(f\"Au + Av = \\n {a @ u + a @ v}\\n\")\n",
        "print(f\"A(u + v) = \\n {a @(u + v)}\\n\")\n",
        "print(f\"(A + B)u = \\n {(a + b) @ u}\\n\")\n",
        "print(f\"Au + Bu = \\n {a @ u + b @ u}\\n\")\n",
        "print(f\"A(3u) = \\n {a @ ( 3 * u)}\\n\")\n",
        "print(f\"3A(u) = \\n {3 * a @ u}\\n\")"
      ],
      "metadata": {
        "colab": {
          "base_uri": "https://localhost:8080/"
        },
        "id": "4ghCX0tANtdL",
        "outputId": "607d612d-16de-4317-d90f-286f47f8edf8"
      },
      "execution_count": null,
      "outputs": [
        {
          "output_type": "stream",
          "name": "stdout",
          "text": [
            "Au + Av = \n",
            " [[127]\n",
            " [106]]\n",
            "\n",
            "A(u + v) = \n",
            " [[127]\n",
            " [106]]\n",
            "\n",
            "(A + B)u = \n",
            " [[95]\n",
            " [79]]\n",
            "\n",
            "Au + Bu = \n",
            " [[95]\n",
            " [79]]\n",
            "\n",
            "A(3u) = \n",
            " [[135]\n",
            " [162]]\n",
            "\n",
            "3A(u) = \n",
            " [[135]\n",
            " [162]]\n",
            "\n"
          ]
        }
      ]
    },
    {
      "cell_type": "code",
      "execution_count": null,
      "metadata": {
        "id": "_5-W7cxDrXyS",
        "outputId": "fb31f1c1-df27-47fb-b8b0-ef2fe9e7d09f"
      },
      "outputs": [
        {
          "name": "stdout",
          "output_type": "stream",
          "text": [
            "Au + Av =\n",
            " [[127]\n",
            " [106]]\n",
            "\n",
            "A(u + v) =\n",
            " [[127]\n",
            " [106]]\n",
            "\n",
            "(A + B)u =\n",
            " [[95]\n",
            " [79]]\n",
            "\n",
            "Au + Bu =\n",
            " [[95]\n",
            " [79]]\n",
            "\n",
            "A(3u) =\n",
            " [[135]\n",
            " [162]]\n",
            "\n",
            "3A(u) =\n",
            " [[135]\n",
            " [162]]\n",
            "\n"
          ]
        }
      ],
      "source": [
        "#type your code here:\n"
      ]
    },
    {
      "cell_type": "markdown",
      "metadata": {
        "id": "1SSCdFJmrXyS"
      },
      "source": [
        "# Question 4. Gaussian Elimination and Reduced Row-Echelon Form"
      ]
    },
    {
      "cell_type": "markdown",
      "metadata": {
        "id": "WFfwnMFRrXyS"
      },
      "source": [
        "You will see a step-by-step example of the row operations that transform a matrix $A$ into its reduced row echelon form $R = rref(A)$. In this demonstration, each pivot is chosen to be the largest in its column (for numerical stability), so extra row interchanges are used. Since $rref(A)$ is uniquely determined by $A$, this does not affect the final answer.\n",
        "\n",
        "The built in [rref](https://docs.sympy.org/latest/tutorial/matrices.html#rref) method `sympy.rref()` method just search for the method and its output to deal with the code."
      ]
    },
    {
      "cell_type": "markdown",
      "metadata": {
        "id": "jJRvXyBOrXyT"
      },
      "source": [
        "#### (a) Generate and display a $3 \\times 4$ matrix $A$ with random integer entries"
      ]
    },
    {
      "cell_type": "code",
      "execution_count": null,
      "metadata": {
        "id": "HCCMbpIJrXyT",
        "outputId": "8e192dfb-38f9-4e9d-9651-4609b5c4ea82",
        "colab": {
          "base_uri": "https://localhost:8080/"
        }
      },
      "outputs": [
        {
          "output_type": "stream",
          "name": "stdout",
          "text": [
            "\n",
            " A = \n",
            " [[4. 7. 2. 4.]\n",
            " [5. 5. 1. 7.]\n",
            " [7. 7. 1. 3.]]\n"
          ]
        }
      ],
      "source": [
        "#type your code here:\n",
        "A = np.fix((10*(np.random.rand(3,4))))\n",
        "print(\"\\n A = \\n\", A)"
      ]
    },
    {
      "cell_type": "markdown",
      "metadata": {
        "id": "XQYSLSVgrXyU"
      },
      "source": [
        "- To transform $A$ into $R = rref(A)$, start with $R = A$.\n",
        "- Normalize the first row of R to get R(1st row, 1st column) = 1\n",
        "\n",
        "    - `R = A`\n",
        "    - `R[0,:] = R[0, :] / R[0, 0]`\n",
        "\n",
        "(note the use of the colon to operate on whole rows of the matrix).\n",
        "\n",
        "<div class=\"alert alert-block alert-warning\">If your random matrix happens to have A(1, 1) = 0, then interchange rows to get a nonzero entry in the (1, 1) position before doing the calculation above.</div>\n",
        "\n",
        "- Now subtract a multiple of the first row of R from the second row to make R(2, 1) = 0:\n",
        "\n",
        "    - `R[1, :] = R[1, :] - R[1, 0] * R[0, :]`\n",
        "\n",
        "- Repeat this procedure to make R(3, 1) = 0:\n",
        "\n",
        "    - `R[2, :] = R[2, :] - R[2, 0] * R[0, :]`\n",
        "\n",
        "The first column of your matrix $R$ should now be the same as the first column of $rref(A)$."
      ]
    },
    {
      "cell_type": "code",
      "execution_count": null,
      "metadata": {
        "id": "3RtH97e4rXyU",
        "outputId": "c60cc3e0-f989-46c6-d0b6-48d01dfd9a9f",
        "colab": {
          "base_uri": "https://localhost:8080/",
          "height": 134
        }
      },
      "outputs": [
        {
          "output_type": "stream",
          "name": "stdout",
          "text": [
            "[[ 1.    1.75  0.5   1.  ]\n",
            " [ 0.   -3.75 -1.5   2.  ]\n",
            " [ 0.   -5.25 -2.5  -4.  ]]\n"
          ]
        },
        {
          "output_type": "execute_result",
          "data": {
            "text/plain": [
              "Matrix([\n",
              "[1.0,  1.75,  0.5,  1.0],\n",
              "[  0, -3.75, -1.5,  2.0],\n",
              "[  0, -5.25, -2.5, -4.0]])"
            ],
            "text/latex": "$\\displaystyle \\left[\\begin{matrix}1.0 & 1.75 & 0.5 & 1.0\\\\0 & -3.75 & -1.5 & 2.0\\\\0 & -5.25 & -2.5 & -4.0\\end{matrix}\\right]$"
          },
          "metadata": {},
          "execution_count": 23
        }
      ],
      "source": [
        "#type your code here:\n",
        "r = A\n",
        "r[0, :] = r[0, :] / r[0, 0]\n",
        "r[1, :] = r[1, :] - r[0, :] * r[1, 0]\n",
        "r[2, :] = r[2, :] - r[2, 0] * r[0, :]\n",
        "print(r)"
      ]
    },
    {
      "cell_type": "markdown",
      "metadata": {
        "id": "hfgaNQ5DrXyV"
      },
      "source": [
        "#### (b)Operate on $R$ by the same method as in (a) to obtain the second column of $rref(A)$. First normalize row $2$ of $R$, then subtract multiples of row $2$ from rows $1$ and $3$ to put zeros in the (1, 2) and (3, 2) positions. Be sure to refer to the entries in your matrix symbolically as was done in part (a)"
      ]
    },
    {
      "cell_type": "code",
      "source": [
        "r[1, :] = r[1, :] / r[1, 1]\n",
        "r[0, :] = r[0, :] - r[1, :] * r[0, 1]\n",
        "r[2, :] = r[2, :] - r[1, :] * r[2, 1]\n",
        "r"
      ],
      "metadata": {
        "colab": {
          "base_uri": "https://localhost:8080/"
        },
        "id": "fNy8rdU0SIUe",
        "outputId": "578fcb5b-a604-4322-8c2a-772e00592819"
      },
      "execution_count": null,
      "outputs": [
        {
          "output_type": "execute_result",
          "data": {
            "text/plain": [
              "array([[-0.75      ,  0.        ,  0.15      , -1.45      ],\n",
              "       [-0.        ,  1.        ,  0.4       , -0.53333333],\n",
              "       [ 0.        ,  0.        , -0.4       , -6.8       ]])"
            ]
          },
          "metadata": {},
          "execution_count": 28
        }
      ]
    },
    {
      "cell_type": "markdown",
      "metadata": {
        "id": "ATzR_d_TrXyV"
      },
      "source": [
        "#### (c) Operate on $R$ by the same method as in (b) to obtain the third column of $rref(A)$. First normalize row $3$ of $R$, then subtract multiples of row $3$ from rows $1$ and $2$ to put zeros in the (1, 3) and (2, 3) positions."
      ]
    },
    {
      "cell_type": "code",
      "execution_count": null,
      "metadata": {
        "id": "FDzsXXuvrXyW",
        "outputId": "4a3e4b26-edbd-47d5-c2c8-ed0a5f097ef2",
        "colab": {
          "base_uri": "https://localhost:8080/"
        }
      },
      "outputs": [
        {
          "output_type": "execute_result",
          "data": {
            "text/plain": [
              "array([[-0.75      ,  0.        ,  0.        , -4.        ],\n",
              "       [ 0.        ,  1.        ,  0.        , -7.33333333],\n",
              "       [-0.        , -0.        ,  1.        , 17.        ]])"
            ]
          },
          "metadata": {},
          "execution_count": 29
        }
      ],
      "source": [
        "#type your code here:\n",
        "r[2, :] = r[2, :] / r[2, 2]\n",
        "r[0, :] = r[0, :] - r[2, :] * r[0, 2]\n",
        "r[1, :] = r[1, :] - r[2, :] * r[1, 2]\n",
        "r"
      ]
    },
    {
      "cell_type": "markdown",
      "metadata": {
        "id": "uIe8pIVRrXyW"
      },
      "source": [
        "#### (d) Your matrix $R$ should now be transformed into $rref(A)$ (since $A$ is a random $3 \\times 4$ matrix, $rref(A)$ is (almost) sure to have rank (3) `np.linalg.matrix_rank(R)`. Check your answer by python with the rref method . If the answer is not the same as the current value of your $R$, go back and redo your calculations.\n",
        "\n",
        "- use the the built in rref method `sympy.rref()`\n",
        "- print the output matrix in numpy array type\n",
        "\n",
        "    - `M = sym.Matrix(A)`\n",
        "    - `M_rref = M.rref()`\n",
        "    - `R = np.array((M_rref[0])).astype(np.float64)`"
      ]
    },
    {
      "cell_type": "code",
      "source": [
        "M = sym.Matrix(A)\n",
        "M_rref = M.rref()\n",
        "R = np.array((M_rref[0])).astype(np.float64)\n",
        "print(f\"rank = \\n {np.linalg.matrix_rank(R)}\")\n",
        "print(f\"The Row echelon form of matrix M\\n {R}\")"
      ],
      "metadata": {
        "colab": {
          "base_uri": "https://localhost:8080/"
        },
        "id": "6X_vf314V4CB",
        "outputId": "66d32db5-8faf-4769-fec2-d2ce4775cc57"
      },
      "execution_count": null,
      "outputs": [
        {
          "output_type": "stream",
          "name": "stdout",
          "text": [
            "rank = \n",
            " 3\n",
            "The Row echelon form of matrix M\n",
            " [[ 1.          0.          0.          5.33333333]\n",
            " [ 0.          1.          0.         -7.33333333]\n",
            " [ 0.          0.          1.         17.        ]]\n"
          ]
        }
      ]
    },
    {
      "cell_type": "code",
      "execution_count": null,
      "metadata": {
        "id": "_xyxUm0zrXye",
        "outputId": "c1320849-2235-4fcc-ac39-c5066d6bed2a"
      },
      "outputs": [
        {
          "name": "stdout",
          "output_type": "stream",
          "text": [
            "\n",
            " rank = \n",
            " 3\n",
            "\n",
            " The Row echelon form of matrix M \n",
            " [[ 1.          0.          0.          0.20945946]\n",
            " [ 0.          1.          0.          1.01351351]\n",
            " [ 0.          0.          1.         -0.16891892]]\n"
          ]
        }
      ],
      "source": [
        "#type your code here:\n",
        "\n",
        "# Use sympy.rref() method\n"
      ]
    },
    {
      "cell_type": "markdown",
      "metadata": {
        "id": "BPRXKHqhrXyf"
      },
      "source": [
        "# Question 5. Matrix Multiplication using Different views"
      ]
    },
    {
      "cell_type": "markdown",
      "metadata": {
        "id": "xZEFkt-frXyf"
      },
      "source": [
        "we discussed in the lecture four different ways about product $AB = C$ where $A$ and $B$ are arbitry matrices. If $A$ is an $m \\times n$ matrix and $B$ is an $n \\times p$ matrix, then $C$ is an $m \\times p$ matrix:\n",
        "\n",
        "1. **Standard(row times column):** The standard way of describing a matrix product is to say that $c_(ij)$ equals the dot product of row $i$ of matrix $A$ and column $j$ of matrix $B$.\n",
        "\n",
        "2. **Columns:** The product of matrix $A$ and column $j$ of matrix $B$ equals column $j$ of matrix  $C$. This tells us that the columns of $C$ are combinations of columns of $A$.\n",
        "\n",
        "3. **Rows:** The product of row $i$ of matrix $A$ and matrix $B$ equals row $i$ of matrix $C$.So the rows of $C$ are combinations of rows of $B$.\n",
        "\n",
        "4. **Column times row**: A column of $A$ is an $m \\times 1$ vector and a row of $B$ is a $1 \\times p$ vector.Their product is a matrix."
      ]
    },
    {
      "cell_type": "markdown",
      "metadata": {
        "id": "9x6TfjpYrXyg"
      },
      "source": [
        "In this problem we will use python to perform the matrix multiplication using these different ways, and compute the execution time for each method time.\n",
        "\n",
        "(Write your code as a function that perform the multiplication for arbitrary size of the matrices $A$ and $B$)"
      ]
    },
    {
      "cell_type": "code",
      "source": [
        "def dot_product(a, b):\n",
        "    if a.ndim == 1 and b.ndim == 1:\n",
        "        res = 0\n",
        "        assert len(a) == len(b), \"Vectors must be of the same lenght\"\n",
        "        for i in range(len(a)):\n",
        "            res += a[i] * b[i]\n",
        "        return res\n",
        "    elif a.ndim > 1 and b.ndim > 1:\n",
        "        m, x = a.shape\n",
        "        y, p = b.shape\n",
        "        assert x == y, \"Matries inner dimention must match\"\n",
        "        c = np.zeros((m, p))\n",
        "    #####################################\n",
        "        for i in range(m):\n",
        "            for j in range(p):\n",
        "                c[i, j] = dot_product(a[i, :], b[:, j])\n",
        "        return c\n",
        "    elif a.ndim > 1 and b.ndim == 1:\n",
        "        m, x = a.shape\n",
        "        y = b.shape[0]\n",
        "        assert x == y, \"Matries inner dimention must match\"\n",
        "        c = np.zeros((m))\n",
        "    #####################################\n",
        "        for i in range(m):\n",
        "                c[i] = dot_product(a[i, :], b)\n",
        "        return c\n",
        "    elif b.ndim > 1 and a.ndim == 1:\n",
        "        m = a.shape[0]\n",
        "        y, p = b.shape\n",
        "        assert m == y, \"Vector and Matrix inner dimention must match\"\n",
        "        c = np.zeros((p))\n",
        "        for i in range(p):\n",
        "            c[i] = dot_product(a, b[:, i])\n",
        "        return  c\n"
      ],
      "metadata": {
        "id": "xNcz4QOPMhvn"
      },
      "execution_count": null,
      "outputs": []
    },
    {
      "cell_type": "code",
      "source": [
        "def check_dimension(A, B):\n",
        "    return A.shape[1] == B.shape[0]\n",
        "\n",
        "def mat_mul_standard(A, B):\n",
        "    if not check_dimension(A, B):\n",
        "        raise Exception('Dimensions aren\\'t consistant')\n",
        "\n",
        "    m, n = A.shape\n",
        "    n, p = B.shape\n",
        "\n",
        "    C = np.zeros((m, p))\n",
        "    ################type your code here#####################\n",
        "    for i in range(m):\n",
        "        for j in range(p):\n",
        "            C[i, j] = dot_product(A[i, :], B[:, j])\n",
        "    ########################################################\n",
        "    return C\n",
        "\n",
        "\n",
        "def mat_mul_columns(A, B):\n",
        "    if not check_dimension(A, B):\n",
        "        raise Exception('Dimensions aren\\'t consistant')\n",
        "\n",
        "    m, n = A.shape\n",
        "    n, p = B.shape\n",
        "\n",
        "    C = np.zeros((m, p))\n",
        "    ################type your code here#####################\n",
        "    for i in range(p):\n",
        "        C[:, i] = dot_product(A, B[:,i])\n",
        "\n",
        "    ########################################################\n",
        "    return C\n",
        "\n",
        "def mat_mul_rows(A, B):\n",
        "    if not check_dimension(A, B):\n",
        "        raise Exception('Dimensions aren\\'t consistant')\n",
        "\n",
        "    m, n = A.shape\n",
        "    n, p = B.shape\n",
        "\n",
        "    C = np.zeros((m, p))\n",
        "    ################type your code here#####################\n",
        "    for i in range(m):\n",
        "        C[i, :] = dot_product(A[i,:], B)\n",
        "\n",
        "    ########################################################\n",
        "    return C\n",
        "\n",
        "\n",
        "\n",
        "def mat_mul_column_times_row(A, B):\n",
        "    if not check_dimension(A, B):\n",
        "        raise Exception('Dimensions aren\\'t consistant')\n",
        "\n",
        "    m, n = A.shape\n",
        "    n, p = B.shape\n",
        "\n",
        "    C = np.zeros((m, p))\n",
        "    ################type your code here#####################\n",
        "    for i in range(n):\n",
        "        tmp = dot_product(A[:, [i]], B[[i], :])\n",
        "        C = C +  tmp\n",
        "\n",
        "    ########################################################\n",
        "    return C"
      ],
      "metadata": {
        "id": "WleHvG3qPcaJ"
      },
      "execution_count": null,
      "outputs": []
    },
    {
      "cell_type": "code",
      "execution_count": null,
      "metadata": {
        "id": "-Z8ao8GYrXyg"
      },
      "outputs": [],
      "source": [
        "\n",
        "# def check_dimension(A, B):\n",
        "#     return A.shape[1] == B.shape[0]\n",
        "\n",
        "# def mat_mul_standard(A, B):\n",
        "#     if not check_dimension(A, B):\n",
        "#         raise Exception('Dimensions aren\\'t consistant')\n",
        "\n",
        "#     m, n = A.shape\n",
        "#     n, p = B.shape\n",
        "\n",
        "#     C = np.zeros((m, p))\n",
        "#     ################type your code here#####################\n",
        "#     for i in range(m):\n",
        "#         for j in range(p):\n",
        "#             C[i, j] = A[i, :].dot(B[:, j])\n",
        "#     # C = A.dot(B)\n",
        "\n",
        "#     ########################################################\n",
        "#     return C\n",
        "\n",
        "\n",
        "# def mat_mul_columns(A, B):\n",
        "#     if not check_dimension(A, B):\n",
        "#         raise Exception('Dimensions aren\\'t consistant')\n",
        "\n",
        "#     m, n = A.shape\n",
        "#     n, p = B.shape\n",
        "\n",
        "#     C = np.zeros((m, p))\n",
        "#     ################type your code here#####################\n",
        "#     for i in range(p):\n",
        "#         C[:, i] = A.dot(B[:,i])\n",
        "\n",
        "#     ########################################################\n",
        "#     return C\n",
        "\n",
        "# def mat_mul_rows(A, B):\n",
        "#     if not check_dimension(A, B):\n",
        "#         raise Exception('Dimensions aren\\'t consistant')\n",
        "\n",
        "#     m, n = A.shape\n",
        "#     n, p = B.shape\n",
        "\n",
        "#     C = np.zeros((m, p))\n",
        "#     ################type your code here#####################\n",
        "#     for i in range(m):\n",
        "#         C[i, :] = A[i,:].dot(B)\n",
        "\n",
        "#     ########################################################\n",
        "#     return C\n",
        "\n",
        "\n",
        "\n",
        "# def mat_mul_column_times_row(A, B):\n",
        "#     if not check_dimension(A, B):\n",
        "#         raise Exception('Dimensions aren\\'t consistant')\n",
        "\n",
        "#     m, n = A.shape\n",
        "#     n, p = B.shape\n",
        "\n",
        "#     C = np.zeros((m, p))\n",
        "#     ################type your code here#####################\n",
        "#     for i in range(n):\n",
        "#         tmp = A[:, [i]].dot(B[[i], :])\n",
        "#         C = C +  tmp\n",
        "\n",
        "#     ########################################################\n",
        "#     return C"
      ]
    },
    {
      "cell_type": "code",
      "execution_count": null,
      "metadata": {
        "id": "u8RXCWRirXyh"
      },
      "outputs": [],
      "source": [
        "#A = np.array([[12., 7., 3.],[4., 5., 6.],[7., 8., 9.]])\n",
        "#B = np.array([[5., 8., 1., 2.],[6., 7., 3., 0.],[4., 5., 9., 1.]])\n",
        "\n",
        "# A = np.fix((10*(np.random.rand(3, 3))))\n",
        "# B = np.fix((10*(np.random.rand(3, 3))))\n",
        "A = np.fix((10*(np.random.rand(300, 300))))\n",
        "B = np.fix((10*(np.random.rand(300, 300))))"
      ]
    },
    {
      "cell_type": "code",
      "execution_count": null,
      "metadata": {
        "id": "9D4srGs3rXyh",
        "outputId": "9c63ff73-111c-4154-9073-eb534fe33148",
        "colab": {
          "base_uri": "https://localhost:8080/"
        }
      },
      "outputs": [
        {
          "output_type": "stream",
          "name": "stdout",
          "text": [
            "A @ B = \n",
            " [[5884. 5559. 5764. ... 5983. 5328. 5794.]\n",
            " [6596. 5996. 6484. ... 5945. 5853. 6458.]\n",
            " [5928. 5847. 6072. ... 5641. 5386. 5952.]\n",
            " ...\n",
            " [5587. 5096. 5924. ... 5516. 5055. 5553.]\n",
            " [6367. 6363. 6531. ... 6290. 6040. 6731.]\n",
            " [5547. 5680. 6013. ... 5726. 5395. 6070.]]\n",
            "CPU times: user 5.33 ms, sys: 2.99 ms, total: 8.32 ms\n",
            "Wall time: 5.52 ms\n"
          ]
        }
      ],
      "source": [
        "%%time\n",
        "print('A @ B = \\n', A @ B)"
      ]
    },
    {
      "cell_type": "code",
      "execution_count": null,
      "metadata": {
        "id": "sgzGS3vvrXyh",
        "outputId": "ad982671-970d-4d33-e976-b0ad0440757f",
        "colab": {
          "base_uri": "https://localhost:8080/"
        }
      },
      "outputs": [
        {
          "output_type": "stream",
          "name": "stdout",
          "text": [
            "C_standard = \n",
            " [[5884. 5559. 5764. ... 5983. 5328. 5794.]\n",
            " [6596. 5996. 6484. ... 5945. 5853. 6458.]\n",
            " [5928. 5847. 6072. ... 5641. 5386. 5952.]\n",
            " ...\n",
            " [5587. 5096. 5924. ... 5516. 5055. 5553.]\n",
            " [6367. 6363. 6531. ... 6290. 6040. 6731.]\n",
            " [5547. 5680. 6013. ... 5726. 5395. 6070.]]\n",
            "CPU times: user 6.3 s, sys: 102 ms, total: 6.4 s\n",
            "Wall time: 6.36 s\n"
          ]
        }
      ],
      "source": [
        "%%time\n",
        "C_standard = mat_mul_standard(A, B)\n",
        "print('C_standard = \\n', C_standard)"
      ]
    },
    {
      "cell_type": "code",
      "execution_count": null,
      "metadata": {
        "id": "hPDGKW_LrXyi",
        "outputId": "e4629c07-dd3b-4c98-e32a-791c43a0ed6b",
        "colab": {
          "base_uri": "https://localhost:8080/"
        }
      },
      "outputs": [
        {
          "output_type": "stream",
          "name": "stdout",
          "text": [
            "C_columns = \n",
            " [[5884. 5559. 5764. ... 5983. 5328. 5794.]\n",
            " [6596. 5996. 6484. ... 5945. 5853. 6458.]\n",
            " [5928. 5847. 6072. ... 5641. 5386. 5952.]\n",
            " ...\n",
            " [5587. 5096. 5924. ... 5516. 5055. 5553.]\n",
            " [6367. 6363. 6531. ... 6290. 6040. 6731.]\n",
            " [5547. 5680. 6013. ... 5726. 5395. 6070.]]\n",
            "CPU times: user 5.88 s, sys: 16 ms, total: 5.9 s\n",
            "Wall time: 5.92 s\n"
          ]
        }
      ],
      "source": [
        "%%time\n",
        "C_columns = mat_mul_columns(A, B)\n",
        "print('C_columns = \\n', C_columns)"
      ]
    },
    {
      "cell_type": "code",
      "execution_count": null,
      "metadata": {
        "id": "Ty28Zd-6rXyi",
        "outputId": "79aa1dcb-17b5-430f-ea5e-cdb074e75d48",
        "colab": {
          "base_uri": "https://localhost:8080/"
        }
      },
      "outputs": [
        {
          "output_type": "stream",
          "name": "stdout",
          "text": [
            "C_rows = \n",
            " [[5884. 5559. 5764. ... 5983. 5328. 5794.]\n",
            " [6596. 5996. 6484. ... 5945. 5853. 6458.]\n",
            " [5928. 5847. 6072. ... 5641. 5386. 5952.]\n",
            " ...\n",
            " [5587. 5096. 5924. ... 5516. 5055. 5553.]\n",
            " [6367. 6363. 6531. ... 6290. 6040. 6731.]\n",
            " [5547. 5680. 6013. ... 5726. 5395. 6070.]]\n",
            "CPU times: user 5.92 s, sys: 15.8 ms, total: 5.93 s\n",
            "Wall time: 5.97 s\n"
          ]
        }
      ],
      "source": [
        "%%time\n",
        "C_rows = mat_mul_rows(A, B)\n",
        "print('C_rows = \\n', C_rows)"
      ]
    },
    {
      "cell_type": "code",
      "execution_count": null,
      "metadata": {
        "id": "PVh6P2QKrXyi",
        "outputId": "d804ec5e-a237-4a70-d7e7-747cc30867e0",
        "colab": {
          "base_uri": "https://localhost:8080/"
        }
      },
      "outputs": [
        {
          "output_type": "stream",
          "name": "stdout",
          "text": [
            "C_column_times_row = \n",
            " [[5884. 5559. 5764. ... 5983. 5328. 5794.]\n",
            " [6596. 5996. 6484. ... 5945. 5853. 6458.]\n",
            " [5928. 5847. 6072. ... 5641. 5386. 5952.]\n",
            " ...\n",
            " [5587. 5096. 5924. ... 5516. 5055. 5553.]\n",
            " [6367. 6363. 6531. ... 6290. 6040. 6731.]\n",
            " [5547. 5680. 6013. ... 5726. 5395. 6070.]]\n",
            "CPU times: user 28.7 s, sys: 67.7 ms, total: 28.8 s\n",
            "Wall time: 28.9 s\n"
          ]
        }
      ],
      "source": [
        "%%time\n",
        "C_column_times_row = mat_mul_column_times_row(A, B)\n",
        "print('C_column_times_row = \\n', C_column_times_row)"
      ]
    },
    {
      "cell_type": "code",
      "source": [],
      "metadata": {
        "id": "EOYDLHo2ZpJ-"
      },
      "execution_count": null,
      "outputs": []
    }
  ],
  "metadata": {
    "kernelspec": {
      "display_name": "Python 3",
      "language": "python",
      "name": "python3"
    },
    "language_info": {
      "codemirror_mode": {
        "name": "ipython",
        "version": 3
      },
      "file_extension": ".py",
      "mimetype": "text/x-python",
      "name": "python",
      "nbconvert_exporter": "python",
      "pygments_lexer": "ipython3",
      "version": "3.9.13"
    },
    "colab": {
      "provenance": []
    }
  },
  "nbformat": 4,
  "nbformat_minor": 0
}